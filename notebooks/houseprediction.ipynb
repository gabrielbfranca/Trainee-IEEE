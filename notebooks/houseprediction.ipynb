{
 "cells": [
  {
   "cell_type": "code",
   "execution_count": 1,
   "id": "cc34b6b7",
   "metadata": {
    "_cell_guid": "b1076dfc-b9ad-4769-8c92-a6c4dae69d19",
    "_uuid": "8f2839f25d086af736a60e9eeb907d3b93b6e0e5",
    "execution": {
     "iopub.execute_input": "2024-08-03T14:59:13.722238Z",
     "iopub.status.busy": "2024-08-03T14:59:13.721855Z",
     "iopub.status.idle": "2024-08-03T14:59:14.595162Z",
     "shell.execute_reply": "2024-08-03T14:59:14.593955Z"
    },
    "papermill": {
     "duration": 0.885379,
     "end_time": "2024-08-03T14:59:14.597425",
     "exception": false,
     "start_time": "2024-08-03T14:59:13.712046",
     "status": "completed"
    },
    "tags": []
   },
   "outputs": [
    {
     "name": "stdout",
     "output_type": "stream",
     "text": [
      "/kaggle/input/cis-ieee-unb-renting-houce-prices/train.csv\n",
      "/kaggle/input/cis-ieee-unb-renting-houce-prices/test.csv\n"
     ]
    }
   ],
   "source": [
    "train_path = '../Data/ex1-housepred/train.csv'\n",
    "test_path = '../Data/ex1-housepred/test.csv'\n",
    "import pandas as pd\n",
    "import numpy as np\n",
    "\n",
    "training = pd.read_csv(train_path)\n",
    "test = pd.read_csv(test_path)"
   ]
  },
  {
   "cell_type": "markdown",
   "id": "d5171249",
   "metadata": {},
   "source": [
    "# projeto feito no kaggle"
   ]
  },
  {
   "cell_type": "code",
   "execution_count": 3,
   "id": "94c9e9f1",
   "metadata": {
    "execution": {
     "iopub.execute_input": "2024-08-03T14:59:55.687075Z",
     "iopub.status.busy": "2024-08-03T14:59:55.686615Z",
     "iopub.status.idle": "2024-08-03T14:59:55.695718Z",
     "shell.execute_reply": "2024-08-03T14:59:55.694759Z"
    },
    "papermill": {
     "duration": 0.020353,
     "end_time": "2024-08-03T14:59:55.697847",
     "exception": false,
     "start_time": "2024-08-03T14:59:55.677494",
     "status": "completed"
    },
    "tags": []
   },
   "outputs": [
    {
     "data": {
      "text/plain": [
       "Index(['id', 'listing_url', 'scrape_id', 'last_scraped', 'name', 'summary',\n",
       "       'space', 'description', 'experiences_offered', 'neighborhood_overview',\n",
       "       'minimum_minimum_nights', 'maximum_minimum_nights',\n",
       "       'minimum_maximum_nights', 'maximum_maximum_nights',\n",
       "       'minimum_nights_avg_ntm', 'maximum_nights_avg_ntm',\n",
       "       'number_of_reviews_ltm', 'calculated_host_listings_count_entire_homes',\n",
       "       'calculated_host_listings_count_private_rooms',\n",
       "       'calculated_host_listings_count_shared_rooms', 'host_is_superhost',\n",
       "       'host_listings_count', 'latitude', 'longitude', 'accommodates',\n",
       "       'bathrooms', 'bedrooms', 'beds', 'extra_people', 'minimum_nights',\n",
       "       'number_of_reviews', 'instant_bookable', 'amenities', 'property_type',\n",
       "       'room_type', 'cancellation_policy', 'price'],\n",
       "      dtype='object')"
      ]
     },
     "execution_count": 3,
     "metadata": {},
     "output_type": "execute_result"
    }
   ],
   "source": [
    "training.columns"
   ]
  },
  {
   "cell_type": "code",
   "execution_count": 4,
   "id": "3077e8a9",
   "metadata": {
    "execution": {
     "iopub.execute_input": "2024-08-03T14:59:55.715679Z",
     "iopub.status.busy": "2024-08-03T14:59:55.715004Z",
     "iopub.status.idle": "2024-08-03T14:59:55.727806Z",
     "shell.execute_reply": "2024-08-03T14:59:55.726887Z"
    },
    "papermill": {
     "duration": 0.024325,
     "end_time": "2024-08-03T14:59:55.730149",
     "exception": false,
     "start_time": "2024-08-03T14:59:55.705824",
     "status": "completed"
    },
    "tags": []
   },
   "outputs": [
    {
     "data": {
      "text/plain": [
       "id                                               object\n",
       "listing_url                                      object\n",
       "scrape_id                                       float64\n",
       "last_scraped                                     object\n",
       "name                                             object\n",
       "summary                                          object\n",
       "space                                            object\n",
       "description                                      object\n",
       "experiences_offered                              object\n",
       "neighborhood_overview                            object\n",
       "minimum_minimum_nights                          float64\n",
       "maximum_minimum_nights                          float64\n",
       "minimum_maximum_nights                          float64\n",
       "maximum_maximum_nights                          float64\n",
       "minimum_nights_avg_ntm                          float64\n",
       "maximum_nights_avg_ntm                          float64\n",
       "number_of_reviews_ltm                           float64\n",
       "calculated_host_listings_count_entire_homes     float64\n",
       "calculated_host_listings_count_private_rooms    float64\n",
       "calculated_host_listings_count_shared_rooms     float64\n",
       "host_is_superhost                                object\n",
       "host_listings_count                              object\n",
       "latitude                                        float64\n",
       "longitude                                       float64\n",
       "accommodates                                     object\n",
       "bathrooms                                       float64\n",
       "bedrooms                                        float64\n",
       "beds                                            float64\n",
       "extra_people                                     object\n",
       "minimum_nights                                   object\n",
       "number_of_reviews                               float64\n",
       "instant_bookable                                 object\n",
       "amenities                                        object\n",
       "property_type                                    object\n",
       "room_type                                        object\n",
       "cancellation_policy                              object\n",
       "price                                            object\n",
       "dtype: object"
      ]
     },
     "execution_count": 4,
     "metadata": {},
     "output_type": "execute_result"
    }
   ],
   "source": [
    "training.dtypes"
   ]
  },
  {
   "cell_type": "markdown",
   "id": "ec5664d3",
   "metadata": {
    "papermill": {
     "duration": 0.008118,
     "end_time": "2024-08-03T14:59:55.746481",
     "exception": false,
     "start_time": "2024-08-03T14:59:55.738363",
     "status": "completed"
    },
    "tags": []
   },
   "source": [
    "# 1 Preprocess - cleaning"
   ]
  },
  {
   "cell_type": "code",
   "execution_count": 5,
   "id": "1c826497",
   "metadata": {
    "execution": {
     "iopub.execute_input": "2024-08-03T14:59:55.764300Z",
     "iopub.status.busy": "2024-08-03T14:59:55.763942Z",
     "iopub.status.idle": "2024-08-03T14:59:56.362491Z",
     "shell.execute_reply": "2024-08-03T14:59:56.361534Z"
    },
    "papermill": {
     "duration": 0.610856,
     "end_time": "2024-08-03T14:59:56.365415",
     "exception": false,
     "start_time": "2024-08-03T14:59:55.754559",
     "status": "completed"
    },
    "tags": []
   },
   "outputs": [],
   "source": [
    "training['host_listings_count'] = (training['host_listings_count'] != 'Real Bed').astype(float)\n",
    "training['minimum_nights'] = (training['minimum_nights'] != 'f').astype(int)\n",
    "training['accommodates'] = (training['accommodates'] != '2019-03-06').astype(int)\n",
    "training['scrape_id'] = training['scrape_id'].astype(float)\n",
    "training['price'] = training['price'].str.replace('$', '', regex=False).str.replace(',', '', regex=False)\n",
    "\n",
    "# Convert the cleaned price column to float\n",
    "training['price'] = training['price'].astype(float)"
   ]
  },
  {
   "cell_type": "code",
   "execution_count": 6,
   "id": "0441d39c",
   "metadata": {
    "execution": {
     "iopub.execute_input": "2024-08-03T14:59:56.385352Z",
     "iopub.status.busy": "2024-08-03T14:59:56.384618Z",
     "iopub.status.idle": "2024-08-03T14:59:56.394543Z",
     "shell.execute_reply": "2024-08-03T14:59:56.393708Z"
    },
    "papermill": {
     "duration": 0.022665,
     "end_time": "2024-08-03T14:59:56.396675",
     "exception": false,
     "start_time": "2024-08-03T14:59:56.374010",
     "status": "completed"
    },
    "tags": []
   },
   "outputs": [],
   "source": [
    "test['host_listings_count'] = (test['host_listings_count'] != 'Real Bed').astype(float)\n",
    "test['minimum_nights'] = (test['minimum_nights'] != 'f').astype(int)\n",
    "test['accommodates'] = (test['accommodates'] != '2019-03-06').astype(int)\n",
    "test['scrape_id'] = test['scrape_id'].astype(float)\n"
   ]
  },
  {
   "cell_type": "code",
   "execution_count": 7,
   "id": "5cc08ac6",
   "metadata": {
    "execution": {
     "iopub.execute_input": "2024-08-03T14:59:56.414628Z",
     "iopub.status.busy": "2024-08-03T14:59:56.414277Z",
     "iopub.status.idle": "2024-08-03T14:59:56.761534Z",
     "shell.execute_reply": "2024-08-03T14:59:56.760480Z"
    },
    "papermill": {
     "duration": 0.359087,
     "end_time": "2024-08-03T14:59:56.764150",
     "exception": false,
     "start_time": "2024-08-03T14:59:56.405063",
     "status": "completed"
    },
    "tags": []
   },
   "outputs": [],
   "source": [
    "training = training.drop(columns=['neighborhood_overview','space', 'id', 'scrape_id'])\n",
    "test_id = test['id']\n",
    "test = test.drop(columns=['neighborhood_overview','space', 'id', 'scrape_id'])"
   ]
  },
  {
   "cell_type": "markdown",
   "id": "4d5e9080",
   "metadata": {
    "papermill": {
     "duration": 0.008049,
     "end_time": "2024-08-03T14:59:56.780732",
     "exception": false,
     "start_time": "2024-08-03T14:59:56.772683",
     "status": "completed"
    },
    "tags": []
   },
   "source": [
    "# Limpando dados"
   ]
  },
  {
   "cell_type": "code",
   "execution_count": 8,
   "id": "bd1ccd71",
   "metadata": {
    "execution": {
     "iopub.execute_input": "2024-08-03T14:59:56.798815Z",
     "iopub.status.busy": "2024-08-03T14:59:56.798429Z",
     "iopub.status.idle": "2024-08-03T14:59:57.299244Z",
     "shell.execute_reply": "2024-08-03T14:59:57.298158Z"
    },
    "papermill": {
     "duration": 0.512819,
     "end_time": "2024-08-03T14:59:57.301798",
     "exception": false,
     "start_time": "2024-08-03T14:59:56.788979",
     "status": "completed"
    },
    "tags": []
   },
   "outputs": [
    {
     "name": "stdout",
     "output_type": "stream",
     "text": [
      "<class 'pandas.core.frame.DataFrame'>\n",
      "RangeIndex: 588091 entries, 0 to 588090\n",
      "Data columns (total 33 columns):\n",
      " #   Column                                        Non-Null Count   Dtype  \n",
      "---  ------                                        --------------   -----  \n",
      " 0   listing_url                                   588091 non-null  object \n",
      " 1   last_scraped                                  588091 non-null  object \n",
      " 2   name                                          586971 non-null  object \n",
      " 3   summary                                       558441 non-null  object \n",
      " 4   description                                   574567 non-null  object \n",
      " 5   experiences_offered                           588091 non-null  object \n",
      " 6   minimum_minimum_nights                        451121 non-null  float64\n",
      " 7   maximum_minimum_nights                        451121 non-null  float64\n",
      " 8   minimum_maximum_nights                        451121 non-null  float64\n",
      " 9   maximum_maximum_nights                        451121 non-null  float64\n",
      " 10  minimum_nights_avg_ntm                        451121 non-null  float64\n",
      " 11  maximum_nights_avg_ntm                        451121 non-null  float64\n",
      " 12  number_of_reviews_ltm                         451121 non-null  float64\n",
      " 13  calculated_host_listings_count_entire_homes   451121 non-null  float64\n",
      " 14  calculated_host_listings_count_private_rooms  451121 non-null  float64\n",
      " 15  calculated_host_listings_count_shared_rooms   451121 non-null  float64\n",
      " 16  host_is_superhost                             587797 non-null  object \n",
      " 17  host_listings_count                           588091 non-null  float64\n",
      " 18  latitude                                      588091 non-null  float64\n",
      " 19  longitude                                     588091 non-null  float64\n",
      " 20  accommodates                                  588091 non-null  int64  \n",
      " 21  bathrooms                                     586965 non-null  float64\n",
      " 22  bedrooms                                      587499 non-null  float64\n",
      " 23  beds                                          586332 non-null  float64\n",
      " 24  extra_people                                  588091 non-null  object \n",
      " 25  minimum_nights                                588091 non-null  int64  \n",
      " 26  number_of_reviews                             588091 non-null  float64\n",
      " 27  instant_bookable                              588090 non-null  object \n",
      " 28  amenities                                     588091 non-null  object \n",
      " 29  property_type                                 588091 non-null  object \n",
      " 30  room_type                                     588091 non-null  object \n",
      " 31  cancellation_policy                           588090 non-null  object \n",
      " 32  price                                         588091 non-null  float64\n",
      "dtypes: float64(18), int64(2), object(13)\n",
      "memory usage: 148.1+ MB\n"
     ]
    }
   ],
   "source": [
    "training.info()"
   ]
  },
  {
   "cell_type": "code",
   "execution_count": 9,
   "id": "bf780ced",
   "metadata": {
    "execution": {
     "iopub.execute_input": "2024-08-03T14:59:57.320975Z",
     "iopub.status.busy": "2024-08-03T14:59:57.320274Z",
     "iopub.status.idle": "2024-08-03T14:59:57.497140Z",
     "shell.execute_reply": "2024-08-03T14:59:57.496000Z"
    },
    "papermill": {
     "duration": 0.189288,
     "end_time": "2024-08-03T14:59:57.499612",
     "exception": false,
     "start_time": "2024-08-03T14:59:57.310324",
     "status": "completed"
    },
    "tags": []
   },
   "outputs": [
    {
     "name": "stdout",
     "output_type": "stream",
     "text": [
      "<class 'pandas.core.frame.DataFrame'>\n",
      "RangeIndex: 196030 entries, 0 to 196029\n",
      "Data columns (total 32 columns):\n",
      " #   Column                                        Non-Null Count   Dtype  \n",
      "---  ------                                        --------------   -----  \n",
      " 0   listing_url                                   196030 non-null  object \n",
      " 1   last_scraped                                  196030 non-null  object \n",
      " 2   name                                          195706 non-null  object \n",
      " 3   summary                                       186334 non-null  object \n",
      " 4   description                                   191715 non-null  object \n",
      " 5   experiences_offered                           196030 non-null  object \n",
      " 6   minimum_minimum_nights                        149877 non-null  float64\n",
      " 7   maximum_minimum_nights                        149877 non-null  float64\n",
      " 8   minimum_maximum_nights                        149877 non-null  float64\n",
      " 9   maximum_maximum_nights                        149877 non-null  float64\n",
      " 10  minimum_nights_avg_ntm                        149877 non-null  float64\n",
      " 11  maximum_nights_avg_ntm                        149877 non-null  float64\n",
      " 12  number_of_reviews_ltm                         149877 non-null  float64\n",
      " 13  calculated_host_listings_count_entire_homes   149877 non-null  float64\n",
      " 14  calculated_host_listings_count_private_rooms  149877 non-null  float64\n",
      " 15  calculated_host_listings_count_shared_rooms   149877 non-null  float64\n",
      " 16  host_is_superhost                             195939 non-null  object \n",
      " 17  host_listings_count                           196030 non-null  float64\n",
      " 18  latitude                                      196030 non-null  float64\n",
      " 19  longitude                                     196030 non-null  float64\n",
      " 20  accommodates                                  196030 non-null  int64  \n",
      " 21  bathrooms                                     195663 non-null  float64\n",
      " 22  bedrooms                                      195847 non-null  float64\n",
      " 23  beds                                          195455 non-null  float64\n",
      " 24  extra_people                                  196030 non-null  object \n",
      " 25  minimum_nights                                196030 non-null  int64  \n",
      " 26  number_of_reviews                             196030 non-null  float64\n",
      " 27  instant_bookable                              196030 non-null  object \n",
      " 28  amenities                                     196030 non-null  object \n",
      " 29  property_type                                 196030 non-null  object \n",
      " 30  room_type                                     196030 non-null  object \n",
      " 31  cancellation_policy                           196030 non-null  object \n",
      "dtypes: float64(17), int64(2), object(13)\n",
      "memory usage: 47.9+ MB\n"
     ]
    }
   ],
   "source": [
    "test.info()"
   ]
  },
  {
   "cell_type": "code",
   "execution_count": 10,
   "id": "8dd424d4",
   "metadata": {
    "execution": {
     "iopub.execute_input": "2024-08-03T14:59:57.518578Z",
     "iopub.status.busy": "2024-08-03T14:59:57.518177Z",
     "iopub.status.idle": "2024-08-03T14:59:58.798492Z",
     "shell.execute_reply": "2024-08-03T14:59:58.797388Z"
    },
    "papermill": {
     "duration": 1.29236,
     "end_time": "2024-08-03T14:59:58.800992",
     "exception": false,
     "start_time": "2024-08-03T14:59:57.508632",
     "status": "completed"
    },
    "tags": []
   },
   "outputs": [
    {
     "name": "stdout",
     "output_type": "stream",
     "text": [
      "<class 'pandas.core.frame.DataFrame'>\n",
      "RangeIndex: 588091 entries, 0 to 588090\n",
      "Data columns (total 33 columns):\n",
      " #   Column                                        Non-Null Count   Dtype  \n",
      "---  ------                                        --------------   -----  \n",
      " 0   listing_url                                   588091 non-null  object \n",
      " 1   last_scraped                                  588091 non-null  object \n",
      " 2   name                                          586971 non-null  object \n",
      " 3   summary                                       558441 non-null  object \n",
      " 4   description                                   574567 non-null  object \n",
      " 5   experiences_offered                           588091 non-null  object \n",
      " 6   minimum_minimum_nights                        588091 non-null  float64\n",
      " 7   maximum_minimum_nights                        588091 non-null  float64\n",
      " 8   minimum_maximum_nights                        588091 non-null  float64\n",
      " 9   maximum_maximum_nights                        588091 non-null  float64\n",
      " 10  minimum_nights_avg_ntm                        588091 non-null  float64\n",
      " 11  maximum_nights_avg_ntm                        588091 non-null  float64\n",
      " 12  number_of_reviews_ltm                         588091 non-null  float64\n",
      " 13  calculated_host_listings_count_entire_homes   588091 non-null  float64\n",
      " 14  calculated_host_listings_count_private_rooms  588091 non-null  float64\n",
      " 15  calculated_host_listings_count_shared_rooms   588091 non-null  float64\n",
      " 16  host_is_superhost                             587797 non-null  object \n",
      " 17  host_listings_count                           588091 non-null  float64\n",
      " 18  latitude                                      588091 non-null  float64\n",
      " 19  longitude                                     588091 non-null  float64\n",
      " 20  accommodates                                  588091 non-null  int64  \n",
      " 21  bathrooms                                     588091 non-null  float64\n",
      " 22  bedrooms                                      588091 non-null  float64\n",
      " 23  beds                                          588091 non-null  float64\n",
      " 24  extra_people                                  588091 non-null  object \n",
      " 25  minimum_nights                                588091 non-null  int64  \n",
      " 26  number_of_reviews                             588091 non-null  float64\n",
      " 27  instant_bookable                              588090 non-null  object \n",
      " 28  amenities                                     588091 non-null  object \n",
      " 29  property_type                                 588091 non-null  object \n",
      " 30  room_type                                     588091 non-null  object \n",
      " 31  cancellation_policy                           588090 non-null  object \n",
      " 32  price                                         588091 non-null  float64\n",
      "dtypes: float64(18), int64(2), object(13)\n",
      "memory usage: 148.1+ MB\n"
     ]
    }
   ],
   "source": [
    "numeric_cols = training.select_dtypes(include=np.number)\n",
    "categorical_cols = training.select_dtypes(exclude=np.number)\n",
    "\n",
    "# Calculate mean for numeric columns\n",
    "mean_values = numeric_cols.mean()\n",
    "\n",
    "# Fill missing values in numeric columns with mean\n",
    "training[numeric_cols.columns] = numeric_cols.fillna(mean_values)\n",
    "\n",
    "training.info()"
   ]
  },
  {
   "cell_type": "code",
   "execution_count": 11,
   "id": "1b813fda",
   "metadata": {
    "execution": {
     "iopub.execute_input": "2024-08-03T14:59:58.820497Z",
     "iopub.status.busy": "2024-08-03T14:59:58.820124Z",
     "iopub.status.idle": "2024-08-03T14:59:59.102598Z",
     "shell.execute_reply": "2024-08-03T14:59:59.101594Z"
    },
    "papermill": {
     "duration": 0.294958,
     "end_time": "2024-08-03T14:59:59.105029",
     "exception": false,
     "start_time": "2024-08-03T14:59:58.810071",
     "status": "completed"
    },
    "tags": []
   },
   "outputs": [
    {
     "name": "stdout",
     "output_type": "stream",
     "text": [
      "<class 'pandas.core.frame.DataFrame'>\n",
      "RangeIndex: 196030 entries, 0 to 196029\n",
      "Data columns (total 32 columns):\n",
      " #   Column                                        Non-Null Count   Dtype  \n",
      "---  ------                                        --------------   -----  \n",
      " 0   listing_url                                   196030 non-null  object \n",
      " 1   last_scraped                                  196030 non-null  object \n",
      " 2   name                                          195706 non-null  object \n",
      " 3   summary                                       186334 non-null  object \n",
      " 4   description                                   191715 non-null  object \n",
      " 5   experiences_offered                           196030 non-null  object \n",
      " 6   minimum_minimum_nights                        196030 non-null  float64\n",
      " 7   maximum_minimum_nights                        196030 non-null  float64\n",
      " 8   minimum_maximum_nights                        196030 non-null  float64\n",
      " 9   maximum_maximum_nights                        196030 non-null  float64\n",
      " 10  minimum_nights_avg_ntm                        196030 non-null  float64\n",
      " 11  maximum_nights_avg_ntm                        196030 non-null  float64\n",
      " 12  number_of_reviews_ltm                         196030 non-null  float64\n",
      " 13  calculated_host_listings_count_entire_homes   196030 non-null  float64\n",
      " 14  calculated_host_listings_count_private_rooms  196030 non-null  float64\n",
      " 15  calculated_host_listings_count_shared_rooms   196030 non-null  float64\n",
      " 16  host_is_superhost                             195939 non-null  object \n",
      " 17  host_listings_count                           196030 non-null  float64\n",
      " 18  latitude                                      196030 non-null  float64\n",
      " 19  longitude                                     196030 non-null  float64\n",
      " 20  accommodates                                  196030 non-null  int64  \n",
      " 21  bathrooms                                     196030 non-null  float64\n",
      " 22  bedrooms                                      196030 non-null  float64\n",
      " 23  beds                                          196030 non-null  float64\n",
      " 24  extra_people                                  196030 non-null  object \n",
      " 25  minimum_nights                                196030 non-null  int64  \n",
      " 26  number_of_reviews                             196030 non-null  float64\n",
      " 27  instant_bookable                              196030 non-null  object \n",
      " 28  amenities                                     196030 non-null  object \n",
      " 29  property_type                                 196030 non-null  object \n",
      " 30  room_type                                     196030 non-null  object \n",
      " 31  cancellation_policy                           196030 non-null  object \n",
      "dtypes: float64(17), int64(2), object(13)\n",
      "memory usage: 47.9+ MB\n"
     ]
    }
   ],
   "source": [
    "numeric_cols_test = test.select_dtypes(include=np.number)\n",
    "categorical_cols_test = test.select_dtypes(exclude=np.number)\n",
    "\n",
    "# Calculate mean for numeric columns\n",
    "mean_values = numeric_cols_test.mean()\n",
    "\n",
    "# Fill missing values in numeric columns with mean\n",
    "test[numeric_cols_test.columns] = numeric_cols_test.fillna(mean_values)\n",
    "\n",
    "test.info()"
   ]
  },
  {
   "cell_type": "code",
   "execution_count": 12,
   "id": "36e958ed",
   "metadata": {
    "execution": {
     "iopub.execute_input": "2024-08-03T14:59:59.123984Z",
     "iopub.status.busy": "2024-08-03T14:59:59.123616Z",
     "iopub.status.idle": "2024-08-03T15:00:02.783468Z",
     "shell.execute_reply": "2024-08-03T15:00:02.782499Z"
    },
    "papermill": {
     "duration": 3.67234,
     "end_time": "2024-08-03T15:00:02.786023",
     "exception": false,
     "start_time": "2024-08-03T14:59:59.113683",
     "status": "completed"
    },
    "tags": []
   },
   "outputs": [
    {
     "name": "stderr",
     "output_type": "stream",
     "text": [
      "/tmp/ipykernel_18/953861803.py:2: FutureWarning: A value is trying to be set on a copy of a DataFrame or Series through chained assignment using an inplace method.\n",
      "The behavior will change in pandas 3.0. This inplace method will never work because the intermediate object on which we are setting values always behaves as a copy.\n",
      "\n",
      "For example, when doing 'df[col].method(value, inplace=True)', try using 'df.method({col: value}, inplace=True)' or df[col] = df[col].method(value) instead, to perform the operation inplace on the original object.\n",
      "\n",
      "\n",
      "  training[col].fillna(training[col].mode()[0], inplace=True)\n",
      "/tmp/ipykernel_18/953861803.py:4: FutureWarning: A value is trying to be set on a copy of a DataFrame or Series through chained assignment using an inplace method.\n",
      "The behavior will change in pandas 3.0. This inplace method will never work because the intermediate object on which we are setting values always behaves as a copy.\n",
      "\n",
      "For example, when doing 'df[col].method(value, inplace=True)', try using 'df.method({col: value}, inplace=True)' or df[col] = df[col].method(value) instead, to perform the operation inplace on the original object.\n",
      "\n",
      "\n",
      "  test[col].fillna(test[col].mode()[0], inplace=True)\n"
     ]
    }
   ],
   "source": [
    "for col in categorical_cols:\n",
    "    training[col].fillna(training[col].mode()[0], inplace=True)\n",
    "for col in categorical_cols_test:\n",
    "    test[col].fillna(test[col].mode()[0], inplace=True)\n"
   ]
  },
  {
   "cell_type": "code",
   "execution_count": 13,
   "id": "324bf85d",
   "metadata": {
    "execution": {
     "iopub.execute_input": "2024-08-03T15:00:02.805217Z",
     "iopub.status.busy": "2024-08-03T15:00:02.804854Z",
     "iopub.status.idle": "2024-08-03T15:00:02.981689Z",
     "shell.execute_reply": "2024-08-03T15:00:02.980567Z"
    },
    "papermill": {
     "duration": 0.189262,
     "end_time": "2024-08-03T15:00:02.984220",
     "exception": false,
     "start_time": "2024-08-03T15:00:02.794958",
     "status": "completed"
    },
    "tags": []
   },
   "outputs": [
    {
     "name": "stdout",
     "output_type": "stream",
     "text": [
      "<class 'pandas.core.frame.DataFrame'>\n",
      "RangeIndex: 196030 entries, 0 to 196029\n",
      "Data columns (total 32 columns):\n",
      " #   Column                                        Non-Null Count   Dtype  \n",
      "---  ------                                        --------------   -----  \n",
      " 0   listing_url                                   196030 non-null  object \n",
      " 1   last_scraped                                  196030 non-null  object \n",
      " 2   name                                          196030 non-null  object \n",
      " 3   summary                                       196030 non-null  object \n",
      " 4   description                                   196030 non-null  object \n",
      " 5   experiences_offered                           196030 non-null  object \n",
      " 6   minimum_minimum_nights                        196030 non-null  float64\n",
      " 7   maximum_minimum_nights                        196030 non-null  float64\n",
      " 8   minimum_maximum_nights                        196030 non-null  float64\n",
      " 9   maximum_maximum_nights                        196030 non-null  float64\n",
      " 10  minimum_nights_avg_ntm                        196030 non-null  float64\n",
      " 11  maximum_nights_avg_ntm                        196030 non-null  float64\n",
      " 12  number_of_reviews_ltm                         196030 non-null  float64\n",
      " 13  calculated_host_listings_count_entire_homes   196030 non-null  float64\n",
      " 14  calculated_host_listings_count_private_rooms  196030 non-null  float64\n",
      " 15  calculated_host_listings_count_shared_rooms   196030 non-null  float64\n",
      " 16  host_is_superhost                             196030 non-null  object \n",
      " 17  host_listings_count                           196030 non-null  float64\n",
      " 18  latitude                                      196030 non-null  float64\n",
      " 19  longitude                                     196030 non-null  float64\n",
      " 20  accommodates                                  196030 non-null  int64  \n",
      " 21  bathrooms                                     196030 non-null  float64\n",
      " 22  bedrooms                                      196030 non-null  float64\n",
      " 23  beds                                          196030 non-null  float64\n",
      " 24  extra_people                                  196030 non-null  object \n",
      " 25  minimum_nights                                196030 non-null  int64  \n",
      " 26  number_of_reviews                             196030 non-null  float64\n",
      " 27  instant_bookable                              196030 non-null  object \n",
      " 28  amenities                                     196030 non-null  object \n",
      " 29  property_type                                 196030 non-null  object \n",
      " 30  room_type                                     196030 non-null  object \n",
      " 31  cancellation_policy                           196030 non-null  object \n",
      "dtypes: float64(17), int64(2), object(13)\n",
      "memory usage: 47.9+ MB\n"
     ]
    }
   ],
   "source": [
    "test.info()"
   ]
  },
  {
   "cell_type": "code",
   "execution_count": 14,
   "id": "b785ac8e",
   "metadata": {
    "execution": {
     "iopub.execute_input": "2024-08-03T15:00:03.004443Z",
     "iopub.status.busy": "2024-08-03T15:00:03.003613Z",
     "iopub.status.idle": "2024-08-03T15:00:04.568785Z",
     "shell.execute_reply": "2024-08-03T15:00:04.567549Z"
    },
    "papermill": {
     "duration": 1.578419,
     "end_time": "2024-08-03T15:00:04.571553",
     "exception": false,
     "start_time": "2024-08-03T15:00:02.993134",
     "status": "completed"
    },
    "tags": []
   },
   "outputs": [],
   "source": [
    "import re\n",
    "\n",
    "def extract_information(text):\n",
    "    # Your extraction logic here\n",
    "    # For example, extract numbers:\n",
    "    numbers = re.findall(r'\\d+', text)\n",
    "    return numbers[0]\n",
    "\n",
    "training['listing_url'] = training['listing_url'].apply(extract_information).astype(float)\n",
    "test['listing_url'] = test['listing_url'].apply(extract_information).astype(float)"
   ]
  },
  {
   "cell_type": "code",
   "execution_count": 15,
   "id": "8af8bb5e",
   "metadata": {
    "execution": {
     "iopub.execute_input": "2024-08-03T15:00:04.591389Z",
     "iopub.status.busy": "2024-08-03T15:00:04.590992Z",
     "iopub.status.idle": "2024-08-03T15:03:10.294062Z",
     "shell.execute_reply": "2024-08-03T15:03:10.292827Z"
    },
    "papermill": {
     "duration": 185.716376,
     "end_time": "2024-08-03T15:03:10.296974",
     "exception": false,
     "start_time": "2024-08-03T15:00:04.580598",
     "status": "completed"
    },
    "tags": []
   },
   "outputs": [],
   "source": [
    "from sklearn.preprocessing import OneHotEncoder\n",
    "from sklearn.feature_extraction.text import TfidfVectorizer\n",
    "\n",
    "# Categorical encoding\n",
    "categorical_cols = ['property_type', 'room_type', 'cancellation_policy']\n",
    "encoder = OneHotEncoder(sparse_output=False)\n",
    "encoder.fit(training[categorical_cols])\n",
    "\n",
    "encoded_categorical = encoder.transform(training[categorical_cols])\n",
    "encoded_categorical_test = encoder.transform(test[categorical_cols])\n",
    "\n",
    "# Textual encoding\n",
    "textual_cols = ['name', 'summary', 'description']\n",
    "for cols in textual_cols:\n",
    "    training[cols] = training[cols].astype(str)\n",
    "    test[cols] = test[cols].astype(str)\n",
    "\n",
    "vectorizer = TfidfVectorizer()\n",
    "vectorizer.fit(training[textual_cols].apply(lambda x: ' '.join(x), axis=1))\n",
    "\n",
    "encoded_text = vectorizer.transform(training[textual_cols].apply(lambda x: ' '.join(x), axis=1))\n",
    "encoded_text_test = vectorizer.transform(test[textual_cols].apply(lambda x: ' '.join(x), axis=1))\n"
   ]
  },
  {
   "cell_type": "code",
   "execution_count": 16,
   "id": "b76350bd",
   "metadata": {
    "execution": {
     "iopub.execute_input": "2024-08-03T15:03:10.318082Z",
     "iopub.status.busy": "2024-08-03T15:03:10.317667Z",
     "iopub.status.idle": "2024-08-03T15:03:10.422687Z",
     "shell.execute_reply": "2024-08-03T15:03:10.421652Z"
    },
    "papermill": {
     "duration": 0.118123,
     "end_time": "2024-08-03T15:03:10.424774",
     "exception": false,
     "start_time": "2024-08-03T15:03:10.306651",
     "status": "completed"
    },
    "tags": []
   },
   "outputs": [
    {
     "name": "stdout",
     "output_type": "stream",
     "text": [
      "(20,)\n"
     ]
    },
    {
     "data": {
      "text/plain": [
       "(20,)"
      ]
     },
     "execution_count": 16,
     "metadata": {},
     "output_type": "execute_result"
    }
   ],
   "source": [
    "numeric_columns_test = test.select_dtypes(exclude=['object', 'string']).columns\n",
    "numeric_columns = training.select_dtypes(exclude=['object', 'string']).columns.drop('price')\n",
    "print(numeric_columns_test.shape)\n",
    "numeric_columns.shape"
   ]
  },
  {
   "cell_type": "code",
   "execution_count": 17,
   "id": "82b6679d",
   "metadata": {
    "execution": {
     "iopub.execute_input": "2024-08-03T15:03:10.445312Z",
     "iopub.status.busy": "2024-08-03T15:03:10.444919Z",
     "iopub.status.idle": "2024-08-03T15:03:10.525705Z",
     "shell.execute_reply": "2024-08-03T15:03:10.524757Z"
    },
    "papermill": {
     "duration": 0.09363,
     "end_time": "2024-08-03T15:03:10.528184",
     "exception": false,
     "start_time": "2024-08-03T15:03:10.434554",
     "status": "completed"
    },
    "tags": []
   },
   "outputs": [],
   "source": [
    "numeric_data = training[numeric_columns].values\n",
    "numeric_data_test = test[numeric_columns_test].values"
   ]
  },
  {
   "cell_type": "code",
   "execution_count": 18,
   "id": "b3737b1f",
   "metadata": {
    "execution": {
     "iopub.execute_input": "2024-08-03T15:03:10.548724Z",
     "iopub.status.busy": "2024-08-03T15:03:10.548329Z",
     "iopub.status.idle": "2024-08-03T15:03:10.555465Z",
     "shell.execute_reply": "2024-08-03T15:03:10.554396Z"
    },
    "papermill": {
     "duration": 0.020285,
     "end_time": "2024-08-03T15:03:10.557685",
     "exception": false,
     "start_time": "2024-08-03T15:03:10.537400",
     "status": "completed"
    },
    "tags": []
   },
   "outputs": [
    {
     "name": "stdout",
     "output_type": "stream",
     "text": [
      "(196030, 66959)\n"
     ]
    },
    {
     "data": {
      "text/plain": [
       "(588091, 66959)"
      ]
     },
     "execution_count": 18,
     "metadata": {},
     "output_type": "execute_result"
    }
   ],
   "source": [
    "print(encoded_text_test.shape)\n",
    "encoded_text.shape"
   ]
  },
  {
   "cell_type": "code",
   "execution_count": 19,
   "id": "48273f8d",
   "metadata": {
    "execution": {
     "iopub.execute_input": "2024-08-03T15:03:10.578065Z",
     "iopub.status.busy": "2024-08-03T15:03:10.577676Z",
     "iopub.status.idle": "2024-08-03T15:03:10.585075Z",
     "shell.execute_reply": "2024-08-03T15:03:10.583750Z"
    },
    "papermill": {
     "duration": 0.020509,
     "end_time": "2024-08-03T15:03:10.587673",
     "exception": false,
     "start_time": "2024-08-03T15:03:10.567164",
     "status": "completed"
    },
    "tags": []
   },
   "outputs": [
    {
     "name": "stdout",
     "output_type": "stream",
     "text": [
      "(588091, 59)\n"
     ]
    },
    {
     "data": {
      "text/plain": [
       "(196030, 59)"
      ]
     },
     "execution_count": 19,
     "metadata": {},
     "output_type": "execute_result"
    }
   ],
   "source": [
    "print(encoded_categorical.shape)\n",
    "encoded_categorical_test.shape"
   ]
  },
  {
   "cell_type": "code",
   "execution_count": 20,
   "id": "bdc0cf6a",
   "metadata": {
    "execution": {
     "iopub.execute_input": "2024-08-03T15:03:10.608467Z",
     "iopub.status.busy": "2024-08-03T15:03:10.607773Z",
     "iopub.status.idle": "2024-08-03T15:03:10.612719Z",
     "shell.execute_reply": "2024-08-03T15:03:10.611691Z"
    },
    "papermill": {
     "duration": 0.017829,
     "end_time": "2024-08-03T15:03:10.614915",
     "exception": false,
     "start_time": "2024-08-03T15:03:10.597086",
     "status": "completed"
    },
    "tags": []
   },
   "outputs": [],
   "source": [
    "from scipy.sparse import hstack"
   ]
  },
  {
   "cell_type": "code",
   "execution_count": 21,
   "id": "8f8fb3e2",
   "metadata": {
    "execution": {
     "iopub.execute_input": "2024-08-03T15:03:10.635381Z",
     "iopub.status.busy": "2024-08-03T15:03:10.634987Z",
     "iopub.status.idle": "2024-08-03T15:03:12.233934Z",
     "shell.execute_reply": "2024-08-03T15:03:12.232827Z"
    },
    "papermill": {
     "duration": 1.611962,
     "end_time": "2024-08-03T15:03:12.236464",
     "exception": false,
     "start_time": "2024-08-03T15:03:10.624502",
     "status": "completed"
    },
    "tags": []
   },
   "outputs": [],
   "source": [
    "X = hstack([encoded_categorical, encoded_text, numeric_data])"
   ]
  },
  {
   "cell_type": "code",
   "execution_count": 22,
   "id": "cc3d8944",
   "metadata": {
    "execution": {
     "iopub.execute_input": "2024-08-03T15:03:12.258117Z",
     "iopub.status.busy": "2024-08-03T15:03:12.257735Z",
     "iopub.status.idle": "2024-08-03T15:03:12.264283Z",
     "shell.execute_reply": "2024-08-03T15:03:12.263224Z"
    },
    "papermill": {
     "duration": 0.020209,
     "end_time": "2024-08-03T15:03:12.266526",
     "exception": false,
     "start_time": "2024-08-03T15:03:12.246317",
     "status": "completed"
    },
    "tags": []
   },
   "outputs": [
    {
     "data": {
      "text/plain": [
       "(588091, 67038)"
      ]
     },
     "execution_count": 22,
     "metadata": {},
     "output_type": "execute_result"
    }
   ],
   "source": [
    "X.shape"
   ]
  },
  {
   "cell_type": "code",
   "execution_count": 23,
   "id": "1c7428bf",
   "metadata": {
    "execution": {
     "iopub.execute_input": "2024-08-03T15:03:12.287663Z",
     "iopub.status.busy": "2024-08-03T15:03:12.287241Z",
     "iopub.status.idle": "2024-08-03T15:03:12.759870Z",
     "shell.execute_reply": "2024-08-03T15:03:12.758711Z"
    },
    "papermill": {
     "duration": 0.486201,
     "end_time": "2024-08-03T15:03:12.762429",
     "exception": false,
     "start_time": "2024-08-03T15:03:12.276228",
     "status": "completed"
    },
    "tags": []
   },
   "outputs": [],
   "source": [
    "X_test = hstack([encoded_categorical_test, encoded_text_test, numeric_data_test])"
   ]
  },
  {
   "cell_type": "code",
   "execution_count": 24,
   "id": "8ba8abb7",
   "metadata": {
    "execution": {
     "iopub.execute_input": "2024-08-03T15:03:12.783447Z",
     "iopub.status.busy": "2024-08-03T15:03:12.783068Z",
     "iopub.status.idle": "2024-08-03T15:03:12.789649Z",
     "shell.execute_reply": "2024-08-03T15:03:12.788671Z"
    },
    "papermill": {
     "duration": 0.019529,
     "end_time": "2024-08-03T15:03:12.791699",
     "exception": false,
     "start_time": "2024-08-03T15:03:12.772170",
     "status": "completed"
    },
    "tags": []
   },
   "outputs": [
    {
     "data": {
      "text/plain": [
       "(196030, 67038)"
      ]
     },
     "execution_count": 24,
     "metadata": {},
     "output_type": "execute_result"
    }
   ],
   "source": [
    "X_test.shape"
   ]
  },
  {
   "cell_type": "code",
   "execution_count": 25,
   "id": "fed812c4",
   "metadata": {
    "execution": {
     "iopub.execute_input": "2024-08-03T15:03:12.812644Z",
     "iopub.status.busy": "2024-08-03T15:03:12.811937Z",
     "iopub.status.idle": "2024-08-03T15:03:13.032924Z",
     "shell.execute_reply": "2024-08-03T15:03:13.031705Z"
    },
    "papermill": {
     "duration": 0.234319,
     "end_time": "2024-08-03T15:03:13.035542",
     "exception": false,
     "start_time": "2024-08-03T15:03:12.801223",
     "status": "completed"
    },
    "tags": []
   },
   "outputs": [],
   "source": [
    "from sklearn.model_selection import train_test_split\n",
    "from sklearn.linear_model import LinearRegression\n",
    "from sklearn.metrics import mean_squared_error"
   ]
  },
  {
   "cell_type": "code",
   "execution_count": 26,
   "id": "9af1fef2",
   "metadata": {
    "execution": {
     "iopub.execute_input": "2024-08-03T15:03:13.057422Z",
     "iopub.status.busy": "2024-08-03T15:03:13.056578Z",
     "iopub.status.idle": "2024-08-03T15:03:17.613633Z",
     "shell.execute_reply": "2024-08-03T15:03:17.612232Z"
    },
    "papermill": {
     "duration": 4.571078,
     "end_time": "2024-08-03T15:03:17.616688",
     "exception": false,
     "start_time": "2024-08-03T15:03:13.045610",
     "status": "completed"
    },
    "tags": []
   },
   "outputs": [
    {
     "data": {
      "text/html": [
       "<style>#sk-container-id-1 {color: black;background-color: white;}#sk-container-id-1 pre{padding: 0;}#sk-container-id-1 div.sk-toggleable {background-color: white;}#sk-container-id-1 label.sk-toggleable__label {cursor: pointer;display: block;width: 100%;margin-bottom: 0;padding: 0.3em;box-sizing: border-box;text-align: center;}#sk-container-id-1 label.sk-toggleable__label-arrow:before {content: \"▸\";float: left;margin-right: 0.25em;color: #696969;}#sk-container-id-1 label.sk-toggleable__label-arrow:hover:before {color: black;}#sk-container-id-1 div.sk-estimator:hover label.sk-toggleable__label-arrow:before {color: black;}#sk-container-id-1 div.sk-toggleable__content {max-height: 0;max-width: 0;overflow: hidden;text-align: left;background-color: #f0f8ff;}#sk-container-id-1 div.sk-toggleable__content pre {margin: 0.2em;color: black;border-radius: 0.25em;background-color: #f0f8ff;}#sk-container-id-1 input.sk-toggleable__control:checked~div.sk-toggleable__content {max-height: 200px;max-width: 100%;overflow: auto;}#sk-container-id-1 input.sk-toggleable__control:checked~label.sk-toggleable__label-arrow:before {content: \"▾\";}#sk-container-id-1 div.sk-estimator input.sk-toggleable__control:checked~label.sk-toggleable__label {background-color: #d4ebff;}#sk-container-id-1 div.sk-label input.sk-toggleable__control:checked~label.sk-toggleable__label {background-color: #d4ebff;}#sk-container-id-1 input.sk-hidden--visually {border: 0;clip: rect(1px 1px 1px 1px);clip: rect(1px, 1px, 1px, 1px);height: 1px;margin: -1px;overflow: hidden;padding: 0;position: absolute;width: 1px;}#sk-container-id-1 div.sk-estimator {font-family: monospace;background-color: #f0f8ff;border: 1px dotted black;border-radius: 0.25em;box-sizing: border-box;margin-bottom: 0.5em;}#sk-container-id-1 div.sk-estimator:hover {background-color: #d4ebff;}#sk-container-id-1 div.sk-parallel-item::after {content: \"\";width: 100%;border-bottom: 1px solid gray;flex-grow: 1;}#sk-container-id-1 div.sk-label:hover label.sk-toggleable__label {background-color: #d4ebff;}#sk-container-id-1 div.sk-serial::before {content: \"\";position: absolute;border-left: 1px solid gray;box-sizing: border-box;top: 0;bottom: 0;left: 50%;z-index: 0;}#sk-container-id-1 div.sk-serial {display: flex;flex-direction: column;align-items: center;background-color: white;padding-right: 0.2em;padding-left: 0.2em;position: relative;}#sk-container-id-1 div.sk-item {position: relative;z-index: 1;}#sk-container-id-1 div.sk-parallel {display: flex;align-items: stretch;justify-content: center;background-color: white;position: relative;}#sk-container-id-1 div.sk-item::before, #sk-container-id-1 div.sk-parallel-item::before {content: \"\";position: absolute;border-left: 1px solid gray;box-sizing: border-box;top: 0;bottom: 0;left: 50%;z-index: -1;}#sk-container-id-1 div.sk-parallel-item {display: flex;flex-direction: column;z-index: 1;position: relative;background-color: white;}#sk-container-id-1 div.sk-parallel-item:first-child::after {align-self: flex-end;width: 50%;}#sk-container-id-1 div.sk-parallel-item:last-child::after {align-self: flex-start;width: 50%;}#sk-container-id-1 div.sk-parallel-item:only-child::after {width: 0;}#sk-container-id-1 div.sk-dashed-wrapped {border: 1px dashed gray;margin: 0 0.4em 0.5em 0.4em;box-sizing: border-box;padding-bottom: 0.4em;background-color: white;}#sk-container-id-1 div.sk-label label {font-family: monospace;font-weight: bold;display: inline-block;line-height: 1.2em;}#sk-container-id-1 div.sk-label-container {text-align: center;}#sk-container-id-1 div.sk-container {/* jupyter's `normalize.less` sets `[hidden] { display: none; }` but bootstrap.min.css set `[hidden] { display: none !important; }` so we also need the `!important` here to be able to override the default hidden behavior on the sphinx rendered scikit-learn.org. See: https://github.com/scikit-learn/scikit-learn/issues/21755 */display: inline-block !important;position: relative;}#sk-container-id-1 div.sk-text-repr-fallback {display: none;}</style><div id=\"sk-container-id-1\" class=\"sk-top-container\"><div class=\"sk-text-repr-fallback\"><pre>LinearRegression()</pre><b>In a Jupyter environment, please rerun this cell to show the HTML representation or trust the notebook. <br />On GitHub, the HTML representation is unable to render, please try loading this page with nbviewer.org.</b></div><div class=\"sk-container\" hidden><div class=\"sk-item\"><div class=\"sk-estimator sk-toggleable\"><input class=\"sk-toggleable__control sk-hidden--visually\" id=\"sk-estimator-id-1\" type=\"checkbox\" checked><label for=\"sk-estimator-id-1\" class=\"sk-toggleable__label sk-toggleable__label-arrow\">LinearRegression</label><div class=\"sk-toggleable__content\"><pre>LinearRegression()</pre></div></div></div></div></div>"
      ],
      "text/plain": [
       "LinearRegression()"
      ]
     },
     "execution_count": 26,
     "metadata": {},
     "output_type": "execute_result"
    }
   ],
   "source": [
    "y_train = training['price']\n",
    "model = LinearRegression()\n",
    "model.fit(X, y_train)"
   ]
  },
  {
   "cell_type": "code",
   "execution_count": 27,
   "id": "e4c972ac",
   "metadata": {
    "execution": {
     "iopub.execute_input": "2024-08-03T15:03:17.651624Z",
     "iopub.status.busy": "2024-08-03T15:03:17.651087Z",
     "iopub.status.idle": "2024-08-03T15:03:17.758342Z",
     "shell.execute_reply": "2024-08-03T15:03:17.757323Z"
    },
    "papermill": {
     "duration": 0.127661,
     "end_time": "2024-08-03T15:03:17.760982",
     "exception": false,
     "start_time": "2024-08-03T15:03:17.633321",
     "status": "completed"
    },
    "tags": []
   },
   "outputs": [],
   "source": [
    "predicted_prices = model.predict(X_test)\n",
    "answer = pd.DataFrame({'ID': test_id, 'price': predicted_prices})"
   ]
  },
  {
   "cell_type": "code",
   "execution_count": 28,
   "id": "62baa664",
   "metadata": {
    "execution": {
     "iopub.execute_input": "2024-08-03T15:03:17.782869Z",
     "iopub.status.busy": "2024-08-03T15:03:17.782460Z",
     "iopub.status.idle": "2024-08-03T15:03:17.796727Z",
     "shell.execute_reply": "2024-08-03T15:03:17.795343Z"
    },
    "papermill": {
     "duration": 0.027775,
     "end_time": "2024-08-03T15:03:17.799102",
     "exception": false,
     "start_time": "2024-08-03T15:03:17.771327",
     "status": "completed"
    },
    "tags": []
   },
   "outputs": [
    {
     "data": {
      "text/html": [
       "<div>\n",
       "<style scoped>\n",
       "    .dataframe tbody tr th:only-of-type {\n",
       "        vertical-align: middle;\n",
       "    }\n",
       "\n",
       "    .dataframe tbody tr th {\n",
       "        vertical-align: top;\n",
       "    }\n",
       "\n",
       "    .dataframe thead th {\n",
       "        text-align: right;\n",
       "    }\n",
       "</style>\n",
       "<table border=\"1\" class=\"dataframe\">\n",
       "  <thead>\n",
       "    <tr style=\"text-align: right;\">\n",
       "      <th></th>\n",
       "      <th>ID</th>\n",
       "      <th>price</th>\n",
       "    </tr>\n",
       "  </thead>\n",
       "  <tbody>\n",
       "    <tr>\n",
       "      <th>0</th>\n",
       "      <td>17878</td>\n",
       "      <td>817.436212</td>\n",
       "    </tr>\n",
       "    <tr>\n",
       "      <th>1</th>\n",
       "      <td>25026</td>\n",
       "      <td>817.366747</td>\n",
       "    </tr>\n",
       "    <tr>\n",
       "      <th>2</th>\n",
       "      <td>46937</td>\n",
       "      <td>817.153812</td>\n",
       "    </tr>\n",
       "    <tr>\n",
       "      <th>3</th>\n",
       "      <td>48726</td>\n",
       "      <td>817.136426</td>\n",
       "    </tr>\n",
       "    <tr>\n",
       "      <th>4</th>\n",
       "      <td>51703</td>\n",
       "      <td>817.107495</td>\n",
       "    </tr>\n",
       "  </tbody>\n",
       "</table>\n",
       "</div>"
      ],
      "text/plain": [
       "      ID       price\n",
       "0  17878  817.436212\n",
       "1  25026  817.366747\n",
       "2  46937  817.153812\n",
       "3  48726  817.136426\n",
       "4  51703  817.107495"
      ]
     },
     "execution_count": 28,
     "metadata": {},
     "output_type": "execute_result"
    }
   ],
   "source": [
    "answer.head()"
   ]
  },
  {
   "cell_type": "code",
   "execution_count": 29,
   "id": "046a971a",
   "metadata": {
    "execution": {
     "iopub.execute_input": "2024-08-03T15:03:17.821100Z",
     "iopub.status.busy": "2024-08-03T15:03:17.820737Z",
     "iopub.status.idle": "2024-08-03T15:03:17.828191Z",
     "shell.execute_reply": "2024-08-03T15:03:17.827350Z"
    },
    "papermill": {
     "duration": 0.020905,
     "end_time": "2024-08-03T15:03:17.830302",
     "exception": false,
     "start_time": "2024-08-03T15:03:17.809397",
     "status": "completed"
    },
    "tags": []
   },
   "outputs": [],
   "source": [
    "answer = pd.DataFrame({'ID': test_id, 'price': predicted_prices})\n",
    "\n",
    "# Set 'ID' as index\n",
    "answer.set_index('ID', inplace=True)\n",
    "\n",
    "# Reset index and drop the old index column\n",
    "answer = answer.reset_index(drop=True)"
   ]
  },
  {
   "cell_type": "code",
   "execution_count": 30,
   "id": "60865a68",
   "metadata": {
    "execution": {
     "iopub.execute_input": "2024-08-03T15:03:17.852407Z",
     "iopub.status.busy": "2024-08-03T15:03:17.852012Z",
     "iopub.status.idle": "2024-08-03T15:03:17.861572Z",
     "shell.execute_reply": "2024-08-03T15:03:17.860556Z"
    },
    "papermill": {
     "duration": 0.023224,
     "end_time": "2024-08-03T15:03:17.863902",
     "exception": false,
     "start_time": "2024-08-03T15:03:17.840678",
     "status": "completed"
    },
    "tags": []
   },
   "outputs": [
    {
     "data": {
      "text/html": [
       "<div>\n",
       "<style scoped>\n",
       "    .dataframe tbody tr th:only-of-type {\n",
       "        vertical-align: middle;\n",
       "    }\n",
       "\n",
       "    .dataframe tbody tr th {\n",
       "        vertical-align: top;\n",
       "    }\n",
       "\n",
       "    .dataframe thead th {\n",
       "        text-align: right;\n",
       "    }\n",
       "</style>\n",
       "<table border=\"1\" class=\"dataframe\">\n",
       "  <thead>\n",
       "    <tr style=\"text-align: right;\">\n",
       "      <th></th>\n",
       "      <th>price</th>\n",
       "    </tr>\n",
       "    <tr>\n",
       "      <th>ID</th>\n",
       "      <th></th>\n",
       "    </tr>\n",
       "  </thead>\n",
       "  <tbody>\n",
       "    <tr>\n",
       "      <th>0</th>\n",
       "      <td>817.436212</td>\n",
       "    </tr>\n",
       "    <tr>\n",
       "      <th>1</th>\n",
       "      <td>817.366747</td>\n",
       "    </tr>\n",
       "    <tr>\n",
       "      <th>2</th>\n",
       "      <td>817.153812</td>\n",
       "    </tr>\n",
       "    <tr>\n",
       "      <th>3</th>\n",
       "      <td>817.136426</td>\n",
       "    </tr>\n",
       "    <tr>\n",
       "      <th>4</th>\n",
       "      <td>817.107495</td>\n",
       "    </tr>\n",
       "  </tbody>\n",
       "</table>\n",
       "</div>"
      ],
      "text/plain": [
       "         price\n",
       "ID            \n",
       "0   817.436212\n",
       "1   817.366747\n",
       "2   817.153812\n",
       "3   817.136426\n",
       "4   817.107495"
      ]
     },
     "execution_count": 30,
     "metadata": {},
     "output_type": "execute_result"
    }
   ],
   "source": [
    "answer.index.name = 'ID'\n",
    "answer.head()"
   ]
  },
  {
   "cell_type": "code",
   "execution_count": 31,
   "id": "8af71d6b",
   "metadata": {
    "execution": {
     "iopub.execute_input": "2024-08-03T15:03:17.886659Z",
     "iopub.status.busy": "2024-08-03T15:03:17.886244Z",
     "iopub.status.idle": "2024-08-03T15:03:17.892926Z",
     "shell.execute_reply": "2024-08-03T15:03:17.891939Z"
    },
    "papermill": {
     "duration": 0.020484,
     "end_time": "2024-08-03T15:03:17.895038",
     "exception": false,
     "start_time": "2024-08-03T15:03:17.874554",
     "status": "completed"
    },
    "tags": []
   },
   "outputs": [
    {
     "data": {
      "text/plain": [
       "Index(['price'], dtype='object')"
      ]
     },
     "execution_count": 31,
     "metadata": {},
     "output_type": "execute_result"
    }
   ],
   "source": [
    "answer.columns"
   ]
  },
  {
   "cell_type": "code",
   "execution_count": 32,
   "id": "f85a8408",
   "metadata": {
    "execution": {
     "iopub.execute_input": "2024-08-03T15:03:17.917619Z",
     "iopub.status.busy": "2024-08-03T15:03:17.917184Z",
     "iopub.status.idle": "2024-08-03T15:03:18.317567Z",
     "shell.execute_reply": "2024-08-03T15:03:18.316575Z"
    },
    "papermill": {
     "duration": 0.414722,
     "end_time": "2024-08-03T15:03:18.320306",
     "exception": false,
     "start_time": "2024-08-03T15:03:17.905584",
     "status": "completed"
    },
    "tags": []
   },
   "outputs": [],
   "source": [
    "answer.to_csv('submission.csv')"
   ]
  },
  {
   "cell_type": "code",
   "execution_count": null,
   "id": "b6a65d18",
   "metadata": {
    "papermill": {
     "duration": 0.010073,
     "end_time": "2024-08-03T15:03:18.341251",
     "exception": false,
     "start_time": "2024-08-03T15:03:18.331178",
     "status": "completed"
    },
    "tags": []
   },
   "outputs": [],
   "source": []
  }
 ],
 "metadata": {
  "kaggle": {
   "accelerator": "none",
   "dataSources": [
    {
     "databundleVersionId": 9135597,
     "sourceId": 82956,
     "sourceType": "competition"
    }
   ],
   "dockerImageVersionId": 30746,
   "isGpuEnabled": false,
   "isInternetEnabled": true,
   "language": "python",
   "sourceType": "notebook"
  },
  "kernelspec": {
   "display_name": "Python 3",
   "language": "python",
   "name": "python3"
  },
  "language_info": {
   "codemirror_mode": {
    "name": "ipython",
    "version": 3
   },
   "file_extension": ".py",
   "mimetype": "text/x-python",
   "name": "python",
   "nbconvert_exporter": "python",
   "pygments_lexer": "ipython3",
   "version": "3.10.13"
  },
  "papermill": {
   "default_parameters": {},
   "duration": 248.371338,
   "end_time": "2024-08-03T15:03:19.375270",
   "environment_variables": {},
   "exception": null,
   "input_path": "__notebook__.ipynb",
   "output_path": "__notebook__.ipynb",
   "parameters": {},
   "start_time": "2024-08-03T14:59:11.003932",
   "version": "2.5.0"
  }
 },
 "nbformat": 4,
 "nbformat_minor": 5
}
