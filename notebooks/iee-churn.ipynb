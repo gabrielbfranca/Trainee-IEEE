{
 "cells": [
  {
   "cell_type": "code",
   "execution_count": 1,
   "id": "70edc170",
   "metadata": {
    "_cell_guid": "b1076dfc-b9ad-4769-8c92-a6c4dae69d19",
    "_uuid": "8f2839f25d086af736a60e9eeb907d3b93b6e0e5",
    "execution": {
     "iopub.execute_input": "2024-08-11T16:23:50.146092Z",
     "iopub.status.busy": "2024-08-11T16:23:50.145680Z",
     "iopub.status.idle": "2024-08-11T16:23:51.070054Z",
     "shell.execute_reply": "2024-08-11T16:23:51.068588Z"
    },
    "papermill": {
     "duration": 0.939776,
     "end_time": "2024-08-11T16:23:51.072790",
     "exception": false,
     "start_time": "2024-08-11T16:23:50.133014",
     "status": "completed"
    },
    "tags": []
   },
   "outputs": [
    {
     "name": "stdout",
     "output_type": "stream",
     "text": [
      "/kaggle/input/cis-ieee-unb-churn/df_train.csv\n",
      "/kaggle/input/cis-ieee-unb-churn/df_test.csv\n"
     ]
    }
   ],
   "source": [
    "train_path = '../Data/ex2-churn/train.csv'\n",
    "test_path = '../Data/ex2-churn/test.csv'"
   ]
  },
  {
   "cell_type": "code",
   "execution_count": 2,
   "id": "15570437",
   "metadata": {
    "execution": {
     "iopub.execute_input": "2024-08-11T16:23:51.096391Z",
     "iopub.status.busy": "2024-08-11T16:23:51.095858Z",
     "iopub.status.idle": "2024-08-11T16:23:51.185417Z",
     "shell.execute_reply": "2024-08-11T16:23:51.184198Z"
    },
    "papermill": {
     "duration": 0.10439,
     "end_time": "2024-08-11T16:23:51.188079",
     "exception": false,
     "start_time": "2024-08-11T16:23:51.083689",
     "status": "completed"
    },
    "tags": []
   },
   "outputs": [],
   "source": [
    "train = pd.read_csv(train_path)\n",
    "test = pd.read_csv(test_path)"
   ]
  },
  {
   "cell_type": "code",
   "execution_count": 3,
   "id": "ee457ece",
   "metadata": {
    "execution": {
     "iopub.execute_input": "2024-08-11T16:23:51.211003Z",
     "iopub.status.busy": "2024-08-11T16:23:51.210631Z",
     "iopub.status.idle": "2024-08-11T16:23:51.258839Z",
     "shell.execute_reply": "2024-08-11T16:23:51.257522Z"
    },
    "papermill": {
     "duration": 0.062581,
     "end_time": "2024-08-11T16:23:51.261342",
     "exception": false,
     "start_time": "2024-08-11T16:23:51.198761",
     "status": "completed"
    },
    "tags": []
   },
   "outputs": [
    {
     "data": {
      "text/html": [
       "<div>\n",
       "<style scoped>\n",
       "    .dataframe tbody tr th:only-of-type {\n",
       "        vertical-align: middle;\n",
       "    }\n",
       "\n",
       "    .dataframe tbody tr th {\n",
       "        vertical-align: top;\n",
       "    }\n",
       "\n",
       "    .dataframe thead th {\n",
       "        text-align: right;\n",
       "    }\n",
       "</style>\n",
       "<table border=\"1\" class=\"dataframe\">\n",
       "  <thead>\n",
       "    <tr style=\"text-align: right;\">\n",
       "      <th></th>\n",
       "      <th>Count</th>\n",
       "      <th>Zip Code</th>\n",
       "      <th>Latitude</th>\n",
       "      <th>Longitude</th>\n",
       "      <th>Tenure Months</th>\n",
       "      <th>Monthly Charges</th>\n",
       "      <th>CLTV</th>\n",
       "    </tr>\n",
       "  </thead>\n",
       "  <tbody>\n",
       "    <tr>\n",
       "      <th>count</th>\n",
       "      <td>5986.0</td>\n",
       "      <td>5986.000000</td>\n",
       "      <td>5986.000000</td>\n",
       "      <td>5986.000000</td>\n",
       "      <td>5986.000000</td>\n",
       "      <td>5986.000000</td>\n",
       "      <td>5986.000000</td>\n",
       "    </tr>\n",
       "    <tr>\n",
       "      <th>mean</th>\n",
       "      <td>1.0</td>\n",
       "      <td>93521.009522</td>\n",
       "      <td>36.291181</td>\n",
       "      <td>-119.806998</td>\n",
       "      <td>32.302873</td>\n",
       "      <td>64.451938</td>\n",
       "      <td>4398.067658</td>\n",
       "    </tr>\n",
       "    <tr>\n",
       "      <th>std</th>\n",
       "      <td>0.0</td>\n",
       "      <td>1871.036207</td>\n",
       "      <td>2.460504</td>\n",
       "      <td>2.156244</td>\n",
       "      <td>24.555068</td>\n",
       "      <td>30.126750</td>\n",
       "      <td>1186.907923</td>\n",
       "    </tr>\n",
       "    <tr>\n",
       "      <th>min</th>\n",
       "      <td>1.0</td>\n",
       "      <td>90001.000000</td>\n",
       "      <td>32.555828</td>\n",
       "      <td>-124.301372</td>\n",
       "      <td>0.000000</td>\n",
       "      <td>18.250000</td>\n",
       "      <td>2003.000000</td>\n",
       "    </tr>\n",
       "    <tr>\n",
       "      <th>25%</th>\n",
       "      <td>1.0</td>\n",
       "      <td>92091.000000</td>\n",
       "      <td>34.030915</td>\n",
       "      <td>-121.822224</td>\n",
       "      <td>9.000000</td>\n",
       "      <td>35.000000</td>\n",
       "      <td>3452.750000</td>\n",
       "    </tr>\n",
       "    <tr>\n",
       "      <th>50%</th>\n",
       "      <td>1.0</td>\n",
       "      <td>93554.500000</td>\n",
       "      <td>36.413825</td>\n",
       "      <td>-119.728910</td>\n",
       "      <td>29.000000</td>\n",
       "      <td>70.200000</td>\n",
       "      <td>4529.500000</td>\n",
       "    </tr>\n",
       "    <tr>\n",
       "      <th>75%</th>\n",
       "      <td>1.0</td>\n",
       "      <td>95359.500000</td>\n",
       "      <td>38.240769</td>\n",
       "      <td>-118.046695</td>\n",
       "      <td>55.000000</td>\n",
       "      <td>89.800000</td>\n",
       "      <td>5381.000000</td>\n",
       "    </tr>\n",
       "    <tr>\n",
       "      <th>max</th>\n",
       "      <td>1.0</td>\n",
       "      <td>96161.000000</td>\n",
       "      <td>41.962127</td>\n",
       "      <td>-114.192901</td>\n",
       "      <td>72.000000</td>\n",
       "      <td>118.600000</td>\n",
       "      <td>6500.000000</td>\n",
       "    </tr>\n",
       "  </tbody>\n",
       "</table>\n",
       "</div>"
      ],
      "text/plain": [
       "        Count      Zip Code     Latitude    Longitude  Tenure Months  \\\n",
       "count  5986.0   5986.000000  5986.000000  5986.000000    5986.000000   \n",
       "mean      1.0  93521.009522    36.291181  -119.806998      32.302873   \n",
       "std       0.0   1871.036207     2.460504     2.156244      24.555068   \n",
       "min       1.0  90001.000000    32.555828  -124.301372       0.000000   \n",
       "25%       1.0  92091.000000    34.030915  -121.822224       9.000000   \n",
       "50%       1.0  93554.500000    36.413825  -119.728910      29.000000   \n",
       "75%       1.0  95359.500000    38.240769  -118.046695      55.000000   \n",
       "max       1.0  96161.000000    41.962127  -114.192901      72.000000   \n",
       "\n",
       "       Monthly Charges         CLTV  \n",
       "count      5986.000000  5986.000000  \n",
       "mean         64.451938  4398.067658  \n",
       "std          30.126750  1186.907923  \n",
       "min          18.250000  2003.000000  \n",
       "25%          35.000000  3452.750000  \n",
       "50%          70.200000  4529.500000  \n",
       "75%          89.800000  5381.000000  \n",
       "max         118.600000  6500.000000  "
      ]
     },
     "execution_count": 3,
     "metadata": {},
     "output_type": "execute_result"
    }
   ],
   "source": [
    "train.describe()"
   ]
  },
  {
   "cell_type": "code",
   "execution_count": 4,
   "id": "491f253f",
   "metadata": {
    "_kg_hide-input": true,
    "execution": {
     "iopub.execute_input": "2024-08-11T16:23:51.284496Z",
     "iopub.status.busy": "2024-08-11T16:23:51.284084Z",
     "iopub.status.idle": "2024-08-11T16:23:51.315501Z",
     "shell.execute_reply": "2024-08-11T16:23:51.314151Z"
    },
    "papermill": {
     "duration": 0.045837,
     "end_time": "2024-08-11T16:23:51.318003",
     "exception": false,
     "start_time": "2024-08-11T16:23:51.272166",
     "status": "completed"
    },
    "tags": []
   },
   "outputs": [
    {
     "name": "stdout",
     "output_type": "stream",
     "text": [
      "<class 'pandas.core.frame.DataFrame'>\n",
      "RangeIndex: 5986 entries, 0 to 5985\n",
      "Data columns (total 30 columns):\n",
      " #   Column             Non-Null Count  Dtype  \n",
      "---  ------             --------------  -----  \n",
      " 0   CustomerID         5986 non-null   object \n",
      " 1   Count              5986 non-null   int64  \n",
      " 2   Country            5986 non-null   object \n",
      " 3   State              5986 non-null   object \n",
      " 4   City               5986 non-null   object \n",
      " 5   Zip Code           5986 non-null   int64  \n",
      " 6   Lat Long           5986 non-null   object \n",
      " 7   Latitude           5986 non-null   float64\n",
      " 8   Longitude          5986 non-null   float64\n",
      " 9   Gender             5986 non-null   object \n",
      " 10  Senior Citizen     5986 non-null   object \n",
      " 11  Partner            5986 non-null   object \n",
      " 12  Dependents         5986 non-null   object \n",
      " 13  Tenure Months      5986 non-null   int64  \n",
      " 14  Phone Service      5986 non-null   object \n",
      " 15  Multiple Lines     5986 non-null   object \n",
      " 16  Internet Service   5986 non-null   object \n",
      " 17  Online Security    5986 non-null   object \n",
      " 18  Online Backup      5986 non-null   object \n",
      " 19  Device Protection  5986 non-null   object \n",
      " 20  Tech Support       5986 non-null   object \n",
      " 21  Streaming TV       5986 non-null   object \n",
      " 22  Streaming Movies   5986 non-null   object \n",
      " 23  Contract           5986 non-null   object \n",
      " 24  Paperless Billing  5986 non-null   object \n",
      " 25  Payment Method     5986 non-null   object \n",
      " 26  Monthly Charges    5986 non-null   float64\n",
      " 27  Total Charges      5986 non-null   object \n",
      " 28  Churn Label        5986 non-null   object \n",
      " 29  CLTV               5986 non-null   int64  \n",
      "dtypes: float64(3), int64(4), object(23)\n",
      "memory usage: 1.4+ MB\n"
     ]
    }
   ],
   "source": [
    "train.info()"
   ]
  },
  {
   "cell_type": "code",
   "execution_count": 5,
   "id": "9fe92e8c",
   "metadata": {
    "execution": {
     "iopub.execute_input": "2024-08-11T16:23:51.343001Z",
     "iopub.status.busy": "2024-08-11T16:23:51.342009Z",
     "iopub.status.idle": "2024-08-11T16:23:51.355354Z",
     "shell.execute_reply": "2024-08-11T16:23:51.354125Z"
    },
    "papermill": {
     "duration": 0.028614,
     "end_time": "2024-08-11T16:23:51.358134",
     "exception": false,
     "start_time": "2024-08-11T16:23:51.329520",
     "status": "completed"
    },
    "tags": []
   },
   "outputs": [
    {
     "name": "stdout",
     "output_type": "stream",
     "text": [
      "<class 'pandas.core.frame.DataFrame'>\n",
      "RangeIndex: 1057 entries, 0 to 1056\n",
      "Data columns (total 29 columns):\n",
      " #   Column             Non-Null Count  Dtype  \n",
      "---  ------             --------------  -----  \n",
      " 0   CustomerID         1057 non-null   object \n",
      " 1   Count              1057 non-null   int64  \n",
      " 2   Country            1057 non-null   object \n",
      " 3   State              1057 non-null   object \n",
      " 4   City               1057 non-null   object \n",
      " 5   Zip Code           1057 non-null   int64  \n",
      " 6   Lat Long           1057 non-null   object \n",
      " 7   Latitude           1057 non-null   float64\n",
      " 8   Longitude          1057 non-null   float64\n",
      " 9   Gender             1057 non-null   object \n",
      " 10  Senior Citizen     1057 non-null   object \n",
      " 11  Partner            1057 non-null   object \n",
      " 12  Dependents         1057 non-null   object \n",
      " 13  Tenure Months      1057 non-null   int64  \n",
      " 14  Phone Service      1057 non-null   object \n",
      " 15  Multiple Lines     1057 non-null   object \n",
      " 16  Internet Service   1057 non-null   object \n",
      " 17  Online Security    1057 non-null   object \n",
      " 18  Online Backup      1057 non-null   object \n",
      " 19  Device Protection  1057 non-null   object \n",
      " 20  Tech Support       1057 non-null   object \n",
      " 21  Streaming TV       1057 non-null   object \n",
      " 22  Streaming Movies   1057 non-null   object \n",
      " 23  Contract           1057 non-null   object \n",
      " 24  Paperless Billing  1057 non-null   object \n",
      " 25  Payment Method     1057 non-null   object \n",
      " 26  Monthly Charges    1057 non-null   float64\n",
      " 27  Total Charges      1057 non-null   float64\n",
      " 28  CLTV               1057 non-null   int64  \n",
      "dtypes: float64(4), int64(4), object(21)\n",
      "memory usage: 239.6+ KB\n"
     ]
    }
   ],
   "source": [
    "test.info()"
   ]
  },
  {
   "cell_type": "code",
   "execution_count": 6,
   "id": "684a7739",
   "metadata": {
    "execution": {
     "iopub.execute_input": "2024-08-11T16:23:51.381875Z",
     "iopub.status.busy": "2024-08-11T16:23:51.381511Z",
     "iopub.status.idle": "2024-08-11T16:23:51.388717Z",
     "shell.execute_reply": "2024-08-11T16:23:51.387623Z"
    },
    "papermill": {
     "duration": 0.021885,
     "end_time": "2024-08-11T16:23:51.390856",
     "exception": false,
     "start_time": "2024-08-11T16:23:51.368971",
     "status": "completed"
    },
    "tags": []
   },
   "outputs": [
    {
     "data": {
      "text/plain": [
       "Index(['CustomerID', 'Count', 'Country', 'State', 'City', 'Zip Code',\n",
       "       'Lat Long', 'Latitude', 'Longitude', 'Gender', 'Senior Citizen',\n",
       "       'Partner', 'Dependents', 'Tenure Months', 'Phone Service',\n",
       "       'Multiple Lines', 'Internet Service', 'Online Security',\n",
       "       'Online Backup', 'Device Protection', 'Tech Support', 'Streaming TV',\n",
       "       'Streaming Movies', 'Contract', 'Paperless Billing', 'Payment Method',\n",
       "       'Monthly Charges', 'Total Charges', 'Churn Label', 'CLTV'],\n",
       "      dtype='object')"
      ]
     },
     "execution_count": 6,
     "metadata": {},
     "output_type": "execute_result"
    }
   ],
   "source": [
    "train.columns"
   ]
  },
  {
   "cell_type": "code",
   "execution_count": 7,
   "id": "3ee8ddea",
   "metadata": {
    "execution": {
     "iopub.execute_input": "2024-08-11T16:23:51.414427Z",
     "iopub.status.busy": "2024-08-11T16:23:51.414039Z",
     "iopub.status.idle": "2024-08-11T16:23:51.452865Z",
     "shell.execute_reply": "2024-08-11T16:23:51.451675Z"
    },
    "papermill": {
     "duration": 0.054137,
     "end_time": "2024-08-11T16:23:51.455815",
     "exception": false,
     "start_time": "2024-08-11T16:23:51.401678",
     "status": "completed"
    },
    "tags": []
   },
   "outputs": [
    {
     "name": "stdout",
     "output_type": "stream",
     "text": [
      "CustomerID\n",
      "7590-VHVEG    1\n",
      "7254-IQWOZ    1\n",
      "2636-SJDOU    1\n",
      "0661-KQHNK    1\n",
      "3197-ARFOY    1\n",
      "             ..\n",
      "8132-YPVBX    1\n",
      "1614-JBEBI    1\n",
      "8687-BAFGU    1\n",
      "1513-XNPPH    1\n",
      "7774-OJSXI    1\n",
      "Name: count, Length: 5986, dtype: int64\n",
      "Country\n",
      "United States    5986\n",
      "Name: count, dtype: int64\n",
      "State\n",
      "California    5986\n",
      "Name: count, dtype: int64\n",
      "City\n",
      "Los Angeles      270\n",
      "San Diego        130\n",
      "San Jose          94\n",
      "San Francisco     91\n",
      "Sacramento        90\n",
      "                ... \n",
      "Santa Clarita      1\n",
      "Crockett           1\n",
      "Jamestown          1\n",
      "Squaw Valley       1\n",
      "Leggett            1\n",
      "Name: count, Length: 1129, dtype: int64\n",
      "Lat Long\n",
      "33.973616, -118.24902     5\n",
      "34.422519, -118.420717    5\n",
      "34.1528, -118.000482      5\n",
      "34.002642, -118.287596    5\n",
      "34.061918, -118.277939    5\n",
      "                         ..\n",
      "37.990118, -122.012188    1\n",
      "37.897753, -122.279391    1\n",
      "38.584505, -121.491956    1\n",
      "38.049292, -122.228415    1\n",
      "33.766004, -117.786763    1\n",
      "Name: count, Length: 1652, dtype: int64\n",
      "Gender\n",
      "Male      3043\n",
      "Female    2943\n",
      "Name: count, dtype: int64\n",
      "Senior Citizen\n",
      "No     5013\n",
      "Yes     973\n",
      "Name: count, dtype: int64\n",
      "Partner\n",
      "No     3075\n",
      "Yes    2911\n",
      "Name: count, dtype: int64\n",
      "Dependents\n",
      "No     4597\n",
      "Yes    1389\n",
      "Name: count, dtype: int64\n",
      "Phone Service\n",
      "Yes    5401\n",
      "No      585\n",
      "Name: count, dtype: int64\n",
      "Multiple Lines\n",
      "No                  2894\n",
      "Yes                 2507\n",
      "No phone service     585\n",
      "Name: count, dtype: int64\n",
      "Internet Service\n",
      "Fiber optic    2608\n",
      "DSL            2060\n",
      "No             1318\n",
      "Name: count, dtype: int64\n",
      "Online Security\n",
      "No                     2972\n",
      "Yes                    1696\n",
      "No internet service    1318\n",
      "Name: count, dtype: int64\n",
      "Online Backup\n",
      "No                     2624\n",
      "Yes                    2044\n",
      "No internet service    1318\n",
      "Name: count, dtype: int64\n",
      "Device Protection\n",
      "No                     2612\n",
      "Yes                    2056\n",
      "No internet service    1318\n",
      "Name: count, dtype: int64\n",
      "Tech Support\n",
      "No                     2925\n",
      "Yes                    1743\n",
      "No internet service    1318\n",
      "Name: count, dtype: int64\n",
      "Streaming TV\n",
      "No                     2394\n",
      "Yes                    2274\n",
      "No internet service    1318\n",
      "Name: count, dtype: int64\n",
      "Streaming Movies\n",
      "No                     2347\n",
      "Yes                    2321\n",
      "No internet service    1318\n",
      "Name: count, dtype: int64\n",
      "Contract\n",
      "Month-to-month    3285\n",
      "Two year          1447\n",
      "One year          1254\n",
      "Name: count, dtype: int64\n",
      "Paperless Billing\n",
      "Yes    3536\n",
      "No     2450\n",
      "Name: count, dtype: int64\n",
      "Payment Method\n",
      "Electronic check             1982\n",
      "Mailed check                 1394\n",
      "Bank transfer (automatic)    1315\n",
      "Credit card (automatic)      1295\n",
      "Name: count, dtype: int64\n",
      "Total Charges\n",
      "           11\n",
      "20.2       11\n",
      "19.75       9\n",
      "20.05       8\n",
      "19.65       7\n",
      "           ..\n",
      "1291.3      1\n",
      "854.8       1\n",
      "1725        1\n",
      "4557.5      1\n",
      "3066.45     1\n",
      "Name: count, Length: 5579, dtype: int64\n",
      "Churn Label\n",
      "No     4409\n",
      "Yes    1577\n",
      "Name: count, dtype: int64\n"
     ]
    }
   ],
   "source": [
    "def count_categorical_values(data):\n",
    "    categoricals = data.select_dtypes(exclude=np.number)\n",
    "    for i in categoricals:\n",
    "        print(data[i].value_counts())\n",
    "count_categorical_values(train)\n",
    "    "
   ]
  },
  {
   "cell_type": "code",
   "execution_count": 8,
   "id": "25695bde",
   "metadata": {
    "execution": {
     "iopub.execute_input": "2024-08-11T16:23:51.480424Z",
     "iopub.status.busy": "2024-08-11T16:23:51.479417Z",
     "iopub.status.idle": "2024-08-11T16:23:51.487720Z",
     "shell.execute_reply": "2024-08-11T16:23:51.486674Z"
    },
    "papermill": {
     "duration": 0.022895,
     "end_time": "2024-08-11T16:23:51.489922",
     "exception": false,
     "start_time": "2024-08-11T16:23:51.467027",
     "status": "completed"
    },
    "tags": []
   },
   "outputs": [],
   "source": [
    "train['Total Charges'] = pd.to_numeric(train['Total Charges'], errors='coerce')\n"
   ]
  },
  {
   "cell_type": "code",
   "execution_count": 9,
   "id": "7feacf99",
   "metadata": {
    "execution": {
     "iopub.execute_input": "2024-08-11T16:23:51.514529Z",
     "iopub.status.busy": "2024-08-11T16:23:51.513787Z",
     "iopub.status.idle": "2024-08-11T16:23:51.521714Z",
     "shell.execute_reply": "2024-08-11T16:23:51.520581Z"
    },
    "papermill": {
     "duration": 0.02289,
     "end_time": "2024-08-11T16:23:51.523919",
     "exception": false,
     "start_time": "2024-08-11T16:23:51.501029",
     "status": "completed"
    },
    "tags": []
   },
   "outputs": [],
   "source": [
    "test['Total Charges'] = pd.to_numeric(train['Total Charges'])"
   ]
  },
  {
   "cell_type": "code",
   "execution_count": 10,
   "id": "2f273d4c",
   "metadata": {
    "execution": {
     "iopub.execute_input": "2024-08-11T16:23:51.548236Z",
     "iopub.status.busy": "2024-08-11T16:23:51.547315Z",
     "iopub.status.idle": "2024-08-11T16:23:51.554744Z",
     "shell.execute_reply": "2024-08-11T16:23:51.553455Z"
    },
    "papermill": {
     "duration": 0.022245,
     "end_time": "2024-08-11T16:23:51.557235",
     "exception": false,
     "start_time": "2024-08-11T16:23:51.534990",
     "status": "completed"
    },
    "tags": []
   },
   "outputs": [
    {
     "data": {
      "text/plain": [
       "11"
      ]
     },
     "execution_count": 10,
     "metadata": {},
     "output_type": "execute_result"
    }
   ],
   "source": [
    "train['Total Charges'].isna().sum()"
   ]
  },
  {
   "cell_type": "code",
   "execution_count": 11,
   "id": "f5028718",
   "metadata": {
    "execution": {
     "iopub.execute_input": "2024-08-11T16:23:51.581628Z",
     "iopub.status.busy": "2024-08-11T16:23:51.581212Z",
     "iopub.status.idle": "2024-08-11T16:23:51.591195Z",
     "shell.execute_reply": "2024-08-11T16:23:51.590077Z"
    },
    "papermill": {
     "duration": 0.024756,
     "end_time": "2024-08-11T16:23:51.593523",
     "exception": false,
     "start_time": "2024-08-11T16:23:51.568767",
     "status": "completed"
    },
    "tags": []
   },
   "outputs": [
    {
     "data": {
      "text/plain": [
       "0"
      ]
     },
     "execution_count": 11,
     "metadata": {},
     "output_type": "execute_result"
    }
   ],
   "source": [
    "\n",
    "mean_value = train['Total Charges'].mean()\n",
    "\n",
    "\n",
    "train['Total Charges'] = train['Total Charges'].fillna(mean_value)\n",
    "\n",
    "train['Total Charges'].isna().sum()\n"
   ]
  },
  {
   "cell_type": "code",
   "execution_count": 12,
   "id": "41e369f6",
   "metadata": {
    "execution": {
     "iopub.execute_input": "2024-08-11T16:23:51.618160Z",
     "iopub.status.busy": "2024-08-11T16:23:51.617663Z",
     "iopub.status.idle": "2024-08-11T16:23:51.627464Z",
     "shell.execute_reply": "2024-08-11T16:23:51.626398Z"
    },
    "papermill": {
     "duration": 0.024579,
     "end_time": "2024-08-11T16:23:51.629514",
     "exception": false,
     "start_time": "2024-08-11T16:23:51.604935",
     "status": "completed"
    },
    "tags": []
   },
   "outputs": [
    {
     "data": {
      "text/plain": [
       "0"
      ]
     },
     "execution_count": 12,
     "metadata": {},
     "output_type": "execute_result"
    }
   ],
   "source": [
    "\n",
    "mean_value = test['Total Charges'].mean()\n",
    "test['Total Charges'] = test['Total Charges'].fillna(mean_value)\n",
    "test['Total Charges'].isna().sum()"
   ]
  },
  {
   "cell_type": "code",
   "execution_count": 13,
   "id": "a08a1056",
   "metadata": {
    "execution": {
     "iopub.execute_input": "2024-08-11T16:23:51.654019Z",
     "iopub.status.busy": "2024-08-11T16:23:51.653629Z",
     "iopub.status.idle": "2024-08-11T16:23:51.674173Z",
     "shell.execute_reply": "2024-08-11T16:23:51.672889Z"
    },
    "papermill": {
     "duration": 0.035579,
     "end_time": "2024-08-11T16:23:51.676414",
     "exception": false,
     "start_time": "2024-08-11T16:23:51.640835",
     "status": "completed"
    },
    "tags": []
   },
   "outputs": [
    {
     "name": "stdout",
     "output_type": "stream",
     "text": [
      "<class 'pandas.core.frame.DataFrame'>\n",
      "RangeIndex: 5986 entries, 0 to 5985\n",
      "Data columns (total 30 columns):\n",
      " #   Column             Non-Null Count  Dtype  \n",
      "---  ------             --------------  -----  \n",
      " 0   CustomerID         5986 non-null   object \n",
      " 1   Count              5986 non-null   int64  \n",
      " 2   Country            5986 non-null   object \n",
      " 3   State              5986 non-null   object \n",
      " 4   City               5986 non-null   object \n",
      " 5   Zip Code           5986 non-null   int64  \n",
      " 6   Lat Long           5986 non-null   object \n",
      " 7   Latitude           5986 non-null   float64\n",
      " 8   Longitude          5986 non-null   float64\n",
      " 9   Gender             5986 non-null   object \n",
      " 10  Senior Citizen     5986 non-null   object \n",
      " 11  Partner            5986 non-null   object \n",
      " 12  Dependents         5986 non-null   object \n",
      " 13  Tenure Months      5986 non-null   int64  \n",
      " 14  Phone Service      5986 non-null   object \n",
      " 15  Multiple Lines     5986 non-null   object \n",
      " 16  Internet Service   5986 non-null   object \n",
      " 17  Online Security    5986 non-null   object \n",
      " 18  Online Backup      5986 non-null   object \n",
      " 19  Device Protection  5986 non-null   object \n",
      " 20  Tech Support       5986 non-null   object \n",
      " 21  Streaming TV       5986 non-null   object \n",
      " 22  Streaming Movies   5986 non-null   object \n",
      " 23  Contract           5986 non-null   object \n",
      " 24  Paperless Billing  5986 non-null   object \n",
      " 25  Payment Method     5986 non-null   object \n",
      " 26  Monthly Charges    5986 non-null   float64\n",
      " 27  Total Charges      5986 non-null   float64\n",
      " 28  Churn Label        5986 non-null   object \n",
      " 29  CLTV               5986 non-null   int64  \n",
      "dtypes: float64(4), int64(4), object(22)\n",
      "memory usage: 1.4+ MB\n"
     ]
    }
   ],
   "source": [
    "train.info()"
   ]
  },
  {
   "cell_type": "code",
   "execution_count": 14,
   "id": "c237c5cb",
   "metadata": {
    "execution": {
     "iopub.execute_input": "2024-08-11T16:23:51.700772Z",
     "iopub.status.busy": "2024-08-11T16:23:51.700391Z",
     "iopub.status.idle": "2024-08-11T16:23:51.713681Z",
     "shell.execute_reply": "2024-08-11T16:23:51.712598Z"
    },
    "papermill": {
     "duration": 0.028397,
     "end_time": "2024-08-11T16:23:51.716173",
     "exception": false,
     "start_time": "2024-08-11T16:23:51.687776",
     "status": "completed"
    },
    "tags": []
   },
   "outputs": [
    {
     "data": {
      "text/plain": [
       "Index(['City', 'Zip Code', 'Lat Long', 'Latitude', 'Longitude', 'Gender',\n",
       "       'Senior Citizen', 'Partner', 'Dependents', 'Tenure Months',\n",
       "       'Phone Service', 'Multiple Lines', 'Internet Service',\n",
       "       'Online Security', 'Online Backup', 'Device Protection', 'Tech Support',\n",
       "       'Streaming TV', 'Streaming Movies', 'Contract', 'Paperless Billing',\n",
       "       'Payment Method', 'Monthly Charges', 'Total Charges', 'Churn Label',\n",
       "       'CLTV'],\n",
       "      dtype='object')"
      ]
     },
     "execution_count": 14,
     "metadata": {},
     "output_type": "execute_result"
    }
   ],
   "source": [
    "CustomerId = test['CustomerID']\n",
    "train = train.drop(columns=['Country', 'State', 'CustomerID', 'Count'])\n",
    "train.columns"
   ]
  },
  {
   "cell_type": "code",
   "execution_count": 15,
   "id": "d55b7944",
   "metadata": {
    "execution": {
     "iopub.execute_input": "2024-08-11T16:23:51.742083Z",
     "iopub.status.busy": "2024-08-11T16:23:51.741158Z",
     "iopub.status.idle": "2024-08-11T16:23:51.749085Z",
     "shell.execute_reply": "2024-08-11T16:23:51.747861Z"
    },
    "papermill": {
     "duration": 0.023329,
     "end_time": "2024-08-11T16:23:51.751365",
     "exception": false,
     "start_time": "2024-08-11T16:23:51.728036",
     "status": "completed"
    },
    "tags": []
   },
   "outputs": [
    {
     "data": {
      "text/plain": [
       "0    2189-WWOEW\n",
       "1    2446-ZKVAF\n",
       "2    4986-MXSFP\n",
       "3    5868-YWPDW\n",
       "4    9412-GHEEC\n",
       "Name: CustomerID, dtype: object"
      ]
     },
     "execution_count": 15,
     "metadata": {},
     "output_type": "execute_result"
    }
   ],
   "source": [
    "CustomerId.head()"
   ]
  },
  {
   "cell_type": "code",
   "execution_count": 16,
   "id": "3318c342",
   "metadata": {
    "execution": {
     "iopub.execute_input": "2024-08-11T16:23:51.777206Z",
     "iopub.status.busy": "2024-08-11T16:23:51.776820Z",
     "iopub.status.idle": "2024-08-11T16:23:51.783633Z",
     "shell.execute_reply": "2024-08-11T16:23:51.782387Z"
    },
    "papermill": {
     "duration": 0.022514,
     "end_time": "2024-08-11T16:23:51.785922",
     "exception": false,
     "start_time": "2024-08-11T16:23:51.763408",
     "status": "completed"
    },
    "tags": []
   },
   "outputs": [],
   "source": [
    "test = test.drop(columns=['CustomerID','Country', 'State', 'Count'])"
   ]
  },
  {
   "cell_type": "code",
   "execution_count": 17,
   "id": "f6f177f4",
   "metadata": {
    "execution": {
     "iopub.execute_input": "2024-08-11T16:23:51.811309Z",
     "iopub.status.busy": "2024-08-11T16:23:51.810885Z",
     "iopub.status.idle": "2024-08-11T16:23:51.831235Z",
     "shell.execute_reply": "2024-08-11T16:23:51.829166Z"
    },
    "papermill": {
     "duration": 0.035893,
     "end_time": "2024-08-11T16:23:51.833597",
     "exception": false,
     "start_time": "2024-08-11T16:23:51.797704",
     "status": "completed"
    },
    "tags": []
   },
   "outputs": [
    {
     "name": "stdout",
     "output_type": "stream",
     "text": [
      "<class 'pandas.core.frame.DataFrame'>\n",
      "RangeIndex: 5986 entries, 0 to 5985\n",
      "Data columns (total 26 columns):\n",
      " #   Column             Non-Null Count  Dtype  \n",
      "---  ------             --------------  -----  \n",
      " 0   City               5986 non-null   object \n",
      " 1   Zip Code           5986 non-null   int64  \n",
      " 2   Lat Long           5986 non-null   object \n",
      " 3   Latitude           5986 non-null   float64\n",
      " 4   Longitude          5986 non-null   float64\n",
      " 5   Gender             5986 non-null   object \n",
      " 6   Senior Citizen     5986 non-null   object \n",
      " 7   Partner            5986 non-null   object \n",
      " 8   Dependents         5986 non-null   object \n",
      " 9   Tenure Months      5986 non-null   int64  \n",
      " 10  Phone Service      5986 non-null   object \n",
      " 11  Multiple Lines     5986 non-null   object \n",
      " 12  Internet Service   5986 non-null   object \n",
      " 13  Online Security    5986 non-null   object \n",
      " 14  Online Backup      5986 non-null   object \n",
      " 15  Device Protection  5986 non-null   object \n",
      " 16  Tech Support       5986 non-null   object \n",
      " 17  Streaming TV       5986 non-null   object \n",
      " 18  Streaming Movies   5986 non-null   object \n",
      " 19  Contract           5986 non-null   object \n",
      " 20  Paperless Billing  5986 non-null   object \n",
      " 21  Payment Method     5986 non-null   object \n",
      " 22  Monthly Charges    5986 non-null   float64\n",
      " 23  Total Charges      5986 non-null   float64\n",
      " 24  Churn Label        5986 non-null   object \n",
      " 25  CLTV               5986 non-null   int64  \n",
      "dtypes: float64(4), int64(3), object(19)\n",
      "memory usage: 1.2+ MB\n"
     ]
    }
   ],
   "source": [
    "train.info()"
   ]
  },
  {
   "cell_type": "code",
   "execution_count": 18,
   "id": "58180a97",
   "metadata": {
    "execution": {
     "iopub.execute_input": "2024-08-11T16:23:51.858923Z",
     "iopub.status.busy": "2024-08-11T16:23:51.858532Z",
     "iopub.status.idle": "2024-08-11T16:23:51.872938Z",
     "shell.execute_reply": "2024-08-11T16:23:51.871468Z"
    },
    "papermill": {
     "duration": 0.030039,
     "end_time": "2024-08-11T16:23:51.875504",
     "exception": false,
     "start_time": "2024-08-11T16:23:51.845465",
     "status": "completed"
    },
    "tags": []
   },
   "outputs": [
    {
     "name": "stdout",
     "output_type": "stream",
     "text": [
      "<class 'pandas.core.frame.DataFrame'>\n",
      "RangeIndex: 1057 entries, 0 to 1056\n",
      "Data columns (total 25 columns):\n",
      " #   Column             Non-Null Count  Dtype  \n",
      "---  ------             --------------  -----  \n",
      " 0   City               1057 non-null   object \n",
      " 1   Zip Code           1057 non-null   int64  \n",
      " 2   Lat Long           1057 non-null   object \n",
      " 3   Latitude           1057 non-null   float64\n",
      " 4   Longitude          1057 non-null   float64\n",
      " 5   Gender             1057 non-null   object \n",
      " 6   Senior Citizen     1057 non-null   object \n",
      " 7   Partner            1057 non-null   object \n",
      " 8   Dependents         1057 non-null   object \n",
      " 9   Tenure Months      1057 non-null   int64  \n",
      " 10  Phone Service      1057 non-null   object \n",
      " 11  Multiple Lines     1057 non-null   object \n",
      " 12  Internet Service   1057 non-null   object \n",
      " 13  Online Security    1057 non-null   object \n",
      " 14  Online Backup      1057 non-null   object \n",
      " 15  Device Protection  1057 non-null   object \n",
      " 16  Tech Support       1057 non-null   object \n",
      " 17  Streaming TV       1057 non-null   object \n",
      " 18  Streaming Movies   1057 non-null   object \n",
      " 19  Contract           1057 non-null   object \n",
      " 20  Paperless Billing  1057 non-null   object \n",
      " 21  Payment Method     1057 non-null   object \n",
      " 22  Monthly Charges    1057 non-null   float64\n",
      " 23  Total Charges      1057 non-null   float64\n",
      " 24  CLTV               1057 non-null   int64  \n",
      "dtypes: float64(4), int64(3), object(18)\n",
      "memory usage: 206.6+ KB\n"
     ]
    }
   ],
   "source": [
    "test.info()"
   ]
  },
  {
   "cell_type": "code",
   "execution_count": 19,
   "id": "f29a5d51",
   "metadata": {
    "collapsed": true,
    "execution": {
     "iopub.execute_input": "2024-08-11T16:23:51.901326Z",
     "iopub.status.busy": "2024-08-11T16:23:51.900908Z",
     "iopub.status.idle": "2024-08-11T16:23:51.912442Z",
     "shell.execute_reply": "2024-08-11T16:23:51.911335Z"
    },
    "jupyter": {
     "outputs_hidden": true
    },
    "papermill": {
     "duration": 0.027197,
     "end_time": "2024-08-11T16:23:51.914860",
     "exception": false,
     "start_time": "2024-08-11T16:23:51.887663",
     "status": "completed"
    },
    "tags": []
   },
   "outputs": [
    {
     "data": {
      "text/plain": [
       "City\n",
       "Los Angeles      270\n",
       "San Diego        130\n",
       "San Jose          94\n",
       "San Francisco     91\n",
       "Sacramento        90\n",
       "                ... \n",
       "Santa Clarita      1\n",
       "Crockett           1\n",
       "Jamestown          1\n",
       "Squaw Valley       1\n",
       "Leggett            1\n",
       "Name: count, Length: 1129, dtype: int64"
      ]
     },
     "execution_count": 19,
     "metadata": {},
     "output_type": "execute_result"
    }
   ],
   "source": [
    "train['City'].value_counts()"
   ]
  },
  {
   "cell_type": "code",
   "execution_count": 20,
   "id": "2b69a889",
   "metadata": {
    "execution": {
     "iopub.execute_input": "2024-08-11T16:23:51.941241Z",
     "iopub.status.busy": "2024-08-11T16:23:51.940843Z",
     "iopub.status.idle": "2024-08-11T16:23:52.176873Z",
     "shell.execute_reply": "2024-08-11T16:23:52.175324Z"
    },
    "papermill": {
     "duration": 0.255014,
     "end_time": "2024-08-11T16:23:52.181992",
     "exception": false,
     "start_time": "2024-08-11T16:23:51.926978",
     "status": "completed"
    },
    "tags": []
   },
   "outputs": [
    {
     "data": {
      "image/png": "[encoded data removed]",
      "text/plain": [
       "<Figure size 600x600 with 1 Axes>"
      ]
     },
     "metadata": {},
     "output_type": "display_data"
    }
   ],
   "source": [
    "import matplotlib.pyplot as plt\n",
    "# Helper function for data distribution\n",
    "# Visualize the proportion of borrowers\n",
    "def show_bool_distrib(data, name_of_bool):\n",
    "  count = \"\"\n",
    "  if isinstance(data, pd.DataFrame):\n",
    "      count = data[name_of_bool].value_counts()\n",
    "  else:\n",
    "      count = data.value_counts()\n",
    "\n",
    "\n",
    "  count.plot(kind = 'pie', explode = [0, 0.1], \n",
    "\n",
    "              figsize = (6, 6), autopct = '%1.1f%%', shadow = True)\n",
    "  plt.ylabel(\"label\")\n",
    "  plt.legend([\"No\", \"Yes\"])\n",
    "  plt.show()\n",
    "\n",
    "\n",
    "# Visualize the proportion of borrowers\n",
    "show_bool_distrib(train, 'Churn Label')"
   ]
  },
  {
   "cell_type": "code",
   "execution_count": 21,
   "id": "7009f2b4",
   "metadata": {
    "execution": {
     "iopub.execute_input": "2024-08-11T16:23:52.222786Z",
     "iopub.status.busy": "2024-08-11T16:23:52.222389Z",
     "iopub.status.idle": "2024-08-11T16:23:52.231049Z",
     "shell.execute_reply": "2024-08-11T16:23:52.229861Z"
    },
    "papermill": {
     "duration": 0.030672,
     "end_time": "2024-08-11T16:23:52.233590",
     "exception": false,
     "start_time": "2024-08-11T16:23:52.202918",
     "status": "completed"
    },
    "tags": []
   },
   "outputs": [
    {
     "data": {
      "text/plain": [
       "0    False\n",
       "1    False\n",
       "2    False\n",
       "3    False\n",
       "4     True\n",
       "Name: Churn Label, dtype: bool"
      ]
     },
     "execution_count": 21,
     "metadata": {},
     "output_type": "execute_result"
    }
   ],
   "source": [
    "train['Churn Label'] = train['Churn Label'] == 'Yes'\n",
    "train['Churn Label'].head()"
   ]
  },
  {
   "cell_type": "code",
   "execution_count": 22,
   "id": "ef98e9ec",
   "metadata": {
    "execution": {
     "iopub.execute_input": "2024-08-11T16:23:52.261217Z",
     "iopub.status.busy": "2024-08-11T16:23:52.260206Z",
     "iopub.status.idle": "2024-08-11T16:24:01.633241Z",
     "shell.execute_reply": "2024-08-11T16:24:01.631946Z"
    },
    "papermill": {
     "duration": 9.389579,
     "end_time": "2024-08-11T16:24:01.635856",
     "exception": false,
     "start_time": "2024-08-11T16:23:52.246277",
     "status": "completed"
    },
    "tags": []
   },
   "outputs": [
    {
     "data": {
      "image/png": "[encoded data removed]",
      "text/plain": [
       "<Figure size 1000x600 with 1 Axes>"
      ]
     },
     "metadata": {},
     "output_type": "display_data"
    },
    {
     "data": {
      "image/png": "[encoded data removed]",
      "text/plain": [
       "<Figure size 1000x600 with 1 Axes>"
      ]
     },
     "metadata": {},
     "output_type": "display_data"
    },
    {
     "data": {
      "image/png": "[encoded data removed]",
      "text/plain": [
       "<Figure size 1000x600 with 1 Axes>"
      ]
     },
     "metadata": {},
     "output_type": "display_data"
    }
   ],
   "source": [
    "# Churn rate by city (bar chart)\n",
    "churn_by_city = train.groupby('City')['Churn Label'].mean()\n",
    "plt.figure(figsize=(10, 6))\n",
    "plt.bar(churn_by_city.index, churn_by_city.values)\n",
    "plt.xlabel('City')\n",
    "plt.ylabel('Churn Rate (Average)')\n",
    "plt.title('Churn Rate by City')\n",
    "plt.xticks(rotation=45, ha='right')\n",
    "plt.tight_layout()\n",
    "plt.show()\n",
    "\n",
    "churn_by_tenure = train.groupby('Tenure Months')['Churn Label'].mean()\n",
    "# Churn rate by tenure month\n",
    "plt.figure(figsize=(10, 6))\n",
    "churn_by_tenure.plot(marker='o')\n",
    "plt.xlabel('Tenure Months')\n",
    "plt.ylabel('Churn Rate')\n",
    "plt.title('Churn Rate by Tenure Month')\n",
    "plt.grid(True)\n",
    "plt.show()\n",
    "\n",
    "# Service usage (bar chart)\n",
    "service_usage = train[['Internet Service', 'Online Security', 'Online Backup', 'Device Protection', 'Tech Support', 'Streaming TV', 'Streaming Movies']].apply(lambda x: (x == 'No').sum())\n",
    "\n",
    "service_usage.plot(kind='bar', stacked=True, figsize=(10, 6))\n",
    "plt.xlabel('Service')\n",
    "plt.ylabel('Count of \"No\"')\n",
    "plt.title('Usage Proportion of Services (Yes vs. No)')\n",
    "plt.xticks(rotation=45, ha='right')  # Rotate x-axis labels for better readability\n",
    "plt.legend(title='Usage')  # Add legend for clarity\n",
    "plt.tight_layout()\n",
    "plt.show()\n"
   ]
  },
  {
   "cell_type": "code",
   "execution_count": 23,
   "id": "48bbf2c1",
   "metadata": {
    "execution": {
     "iopub.execute_input": "2024-08-11T16:24:01.729667Z",
     "iopub.status.busy": "2024-08-11T16:24:01.729253Z",
     "iopub.status.idle": "2024-08-11T16:24:03.051690Z",
     "shell.execute_reply": "2024-08-11T16:24:03.050593Z"
    },
    "papermill": {
     "duration": 1.40259,
     "end_time": "2024-08-11T16:24:03.054417",
     "exception": false,
     "start_time": "2024-08-11T16:24:01.651827",
     "status": "completed"
    },
    "tags": []
   },
   "outputs": [],
   "source": [
    "import pandas as pd\n",
    "from sklearn.preprocessing import OneHotEncoder\n",
    "\n",
    "categorical_cols = ['City','Gender','Senior Citizen', 'Partner', 'Dependents',\n",
    " 'Phone Service',\n",
    " 'Multiple Lines',\n",
    " 'Internet Service',\n",
    " 'Online Security',\n",
    " 'Online Backup', \n",
    " 'Device Protection',\n",
    " 'Tech Support', \n",
    " 'Streaming TV',\n",
    " 'Streaming Movies',\n",
    " 'Contract',\n",
    " 'Paperless Billing',\n",
    " 'Payment Method']\n",
    "encoder = OneHotEncoder(sparse_output=False)\n",
    "encoder.fit(train[categorical_cols])\n",
    "encoded_data = encoder.transform(train[categorical_cols])"
   ]
  },
  {
   "cell_type": "code",
   "execution_count": 24,
   "id": "753d62d9",
   "metadata": {
    "execution": {
     "iopub.execute_input": "2024-08-11T16:24:03.089384Z",
     "iopub.status.busy": "2024-08-11T16:24:03.088199Z",
     "iopub.status.idle": "2024-08-11T16:24:03.105030Z",
     "shell.execute_reply": "2024-08-11T16:24:03.103663Z"
    },
    "papermill": {
     "duration": 0.037174,
     "end_time": "2024-08-11T16:24:03.107781",
     "exception": false,
     "start_time": "2024-08-11T16:24:03.070607",
     "status": "completed"
    },
    "tags": []
   },
   "outputs": [
    {
     "name": "stdout",
     "output_type": "stream",
     "text": [
      "Number of NaN values in each column:\n",
      "City                 0\n",
      "Gender               0\n",
      "Senior Citizen       0\n",
      "Partner              0\n",
      "Dependents           0\n",
      "Phone Service        0\n",
      "Multiple Lines       0\n",
      "Internet Service     0\n",
      "Online Security      0\n",
      "Online Backup        0\n",
      "Device Protection    0\n",
      "Tech Support         0\n",
      "Streaming TV         0\n",
      "Streaming Movies     0\n",
      "Contract             0\n",
      "Paperless Billing    0\n",
      "Payment Method       0\n",
      "dtype: int64\n"
     ]
    }
   ],
   "source": [
    "\n",
    "\n",
    "# Check for NaN values in each column and get the count\n",
    "na_counts = train[categorical_cols].isna().sum()\n",
    "\n",
    "print(\"Number of NaN values in each column:\")\n",
    "print(na_counts)\n"
   ]
  },
  {
   "cell_type": "code",
   "execution_count": 25,
   "id": "3f88331d",
   "metadata": {
    "execution": {
     "iopub.execute_input": "2024-08-11T16:24:03.143525Z",
     "iopub.status.busy": "2024-08-11T16:24:03.143096Z",
     "iopub.status.idle": "2024-08-11T16:24:03.148862Z",
     "shell.execute_reply": "2024-08-11T16:24:03.147525Z"
    },
    "papermill": {
     "duration": 0.026271,
     "end_time": "2024-08-11T16:24:03.151158",
     "exception": false,
     "start_time": "2024-08-11T16:24:03.124887",
     "status": "completed"
    },
    "tags": []
   },
   "outputs": [],
   "source": [
    "train['Churn Label'] = train['Churn Label'].astype(int)"
   ]
  },
  {
   "cell_type": "code",
   "execution_count": 26,
   "id": "84bd3fc7",
   "metadata": {
    "execution": {
     "iopub.execute_input": "2024-08-11T16:24:03.186325Z",
     "iopub.status.busy": "2024-08-11T16:24:03.185915Z",
     "iopub.status.idle": "2024-08-11T16:24:03.194400Z",
     "shell.execute_reply": "2024-08-11T16:24:03.193187Z"
    },
    "papermill": {
     "duration": 0.02914,
     "end_time": "2024-08-11T16:24:03.196859",
     "exception": false,
     "start_time": "2024-08-11T16:24:03.167719",
     "status": "completed"
    },
    "tags": []
   },
   "outputs": [
    {
     "data": {
      "text/plain": [
       "0    0\n",
       "1    0\n",
       "2    0\n",
       "3    0\n",
       "4    1\n",
       "Name: Churn Label, dtype: int64"
      ]
     },
     "execution_count": 26,
     "metadata": {},
     "output_type": "execute_result"
    }
   ],
   "source": [
    "train['Churn Label'].head()"
   ]
  },
  {
   "cell_type": "code",
   "execution_count": 27,
   "id": "57f923f0",
   "metadata": {
    "execution": {
     "iopub.execute_input": "2024-08-11T16:24:03.231355Z",
     "iopub.status.busy": "2024-08-11T16:24:03.230963Z",
     "iopub.status.idle": "2024-08-11T16:24:03.242638Z",
     "shell.execute_reply": "2024-08-11T16:24:03.241487Z"
    },
    "papermill": {
     "duration": 0.032018,
     "end_time": "2024-08-11T16:24:03.245115",
     "exception": false,
     "start_time": "2024-08-11T16:24:03.213097",
     "status": "completed"
    },
    "tags": []
   },
   "outputs": [
    {
     "name": "stdout",
     "output_type": "stream",
     "text": [
      "(7,)\n"
     ]
    },
    {
     "data": {
      "text/plain": [
       "(7,)"
      ]
     },
     "execution_count": 27,
     "metadata": {},
     "output_type": "execute_result"
    }
   ],
   "source": [
    "numeric_columns_test = test.select_dtypes(exclude=['object', 'string']).columns\n",
    "numeric_columns = train.select_dtypes(exclude=['object', 'string']).columns.drop('Churn Label')\n",
    "print(numeric_columns_test.shape)\n",
    "numeric_columns.shape"
   ]
  },
  {
   "cell_type": "code",
   "execution_count": 28,
   "id": "fa313673",
   "metadata": {
    "execution": {
     "iopub.execute_input": "2024-08-11T16:24:03.281188Z",
     "iopub.status.busy": "2024-08-11T16:24:03.280182Z",
     "iopub.status.idle": "2024-08-11T16:24:03.286200Z",
     "shell.execute_reply": "2024-08-11T16:24:03.285145Z"
    },
    "papermill": {
     "duration": 0.026861,
     "end_time": "2024-08-11T16:24:03.289190",
     "exception": false,
     "start_time": "2024-08-11T16:24:03.262329",
     "status": "completed"
    },
    "tags": []
   },
   "outputs": [
    {
     "name": "stdout",
     "output_type": "stream",
     "text": [
      "Index(['Zip Code', 'Latitude', 'Longitude', 'Tenure Months', 'Monthly Charges',\n",
      "       'Total Charges', 'CLTV'],\n",
      "      dtype='object')\n",
      "Index(['Zip Code', 'Latitude', 'Longitude', 'Tenure Months', 'Monthly Charges',\n",
      "       'Total Charges', 'CLTV'],\n",
      "      dtype='object')\n"
     ]
    }
   ],
   "source": [
    "print(numeric_columns)\n",
    "print(numeric_columns_test)"
   ]
  },
  {
   "cell_type": "code",
   "execution_count": 29,
   "id": "dec4769d",
   "metadata": {
    "execution": {
     "iopub.execute_input": "2024-08-11T16:24:03.325040Z",
     "iopub.status.busy": "2024-08-11T16:24:03.324200Z",
     "iopub.status.idle": "2024-08-11T16:24:03.334043Z",
     "shell.execute_reply": "2024-08-11T16:24:03.332702Z"
    },
    "papermill": {
     "duration": 0.030727,
     "end_time": "2024-08-11T16:24:03.336941",
     "exception": false,
     "start_time": "2024-08-11T16:24:03.306214",
     "status": "completed"
    },
    "tags": []
   },
   "outputs": [
    {
     "name": "stdout",
     "output_type": "stream",
     "text": [
      "Number of NaN values in each column:\n",
      "Zip Code           0\n",
      "Latitude           0\n",
      "Longitude          0\n",
      "Tenure Months      0\n",
      "Monthly Charges    0\n",
      "Total Charges      0\n",
      "CLTV               0\n",
      "dtype: int64\n"
     ]
    }
   ],
   "source": [
    "\n",
    "columns_to_check = ['Zip Code', 'Latitude', 'Longitude', 'Tenure Months', 'Monthly Charges', 'Total Charges', 'CLTV']\n",
    "\n",
    "# Check for NaN values in each column and get the count\n",
    "na_counts = train[columns_to_check].isna().sum()\n",
    "\n",
    "print(\"Number of NaN values in each column:\")\n",
    "print(na_counts)\n"
   ]
  },
  {
   "cell_type": "code",
   "execution_count": 30,
   "id": "02a51670",
   "metadata": {
    "execution": {
     "iopub.execute_input": "2024-08-11T16:24:03.372115Z",
     "iopub.status.busy": "2024-08-11T16:24:03.371737Z",
     "iopub.status.idle": "2024-08-11T16:24:03.380667Z",
     "shell.execute_reply": "2024-08-11T16:24:03.379132Z"
    },
    "papermill": {
     "duration": 0.029588,
     "end_time": "2024-08-11T16:24:03.383355",
     "exception": false,
     "start_time": "2024-08-11T16:24:03.353767",
     "status": "completed"
    },
    "tags": []
   },
   "outputs": [
    {
     "name": "stdout",
     "output_type": "stream",
     "text": [
      "Number of NaN values in each column:\n",
      "Zip Code           0\n",
      "Latitude           0\n",
      "Longitude          0\n",
      "Tenure Months      0\n",
      "Monthly Charges    0\n",
      "Total Charges      0\n",
      "CLTV               0\n",
      "dtype: int64\n"
     ]
    }
   ],
   "source": [
    "na_counts = test[columns_to_check].isna().sum()\n",
    "\n",
    "print(\"Number of NaN values in each column:\")\n",
    "print(na_counts)"
   ]
  },
  {
   "cell_type": "code",
   "execution_count": 31,
   "id": "60f3bbe8",
   "metadata": {
    "execution": {
     "iopub.execute_input": "2024-08-11T16:24:03.419937Z",
     "iopub.status.busy": "2024-08-11T16:24:03.419528Z",
     "iopub.status.idle": "2024-08-11T16:24:03.427037Z",
     "shell.execute_reply": "2024-08-11T16:24:03.426042Z"
    },
    "papermill": {
     "duration": 0.028586,
     "end_time": "2024-08-11T16:24:03.429580",
     "exception": false,
     "start_time": "2024-08-11T16:24:03.400994",
     "status": "completed"
    },
    "tags": []
   },
   "outputs": [],
   "source": [
    "numeric_data = train[numeric_columns].values\n",
    "numeric_data_test = test[numeric_columns_test].values"
   ]
  },
  {
   "cell_type": "code",
   "execution_count": 32,
   "id": "5ee4b350",
   "metadata": {
    "execution": {
     "iopub.execute_input": "2024-08-11T16:24:03.465086Z",
     "iopub.status.busy": "2024-08-11T16:24:03.464683Z",
     "iopub.status.idle": "2024-08-11T16:24:03.471248Z",
     "shell.execute_reply": "2024-08-11T16:24:03.470183Z"
    },
    "papermill": {
     "duration": 0.026918,
     "end_time": "2024-08-11T16:24:03.473520",
     "exception": false,
     "start_time": "2024-08-11T16:24:03.446602",
     "status": "completed"
    },
    "tags": []
   },
   "outputs": [
    {
     "data": {
      "text/plain": [
       "(5986, 7)"
      ]
     },
     "execution_count": 32,
     "metadata": {},
     "output_type": "execute_result"
    }
   ],
   "source": [
    "numeric_data.shape"
   ]
  },
  {
   "cell_type": "code",
   "execution_count": 33,
   "id": "ad59840c",
   "metadata": {
    "execution": {
     "iopub.execute_input": "2024-08-11T16:24:03.509175Z",
     "iopub.status.busy": "2024-08-11T16:24:03.508799Z",
     "iopub.status.idle": "2024-08-11T16:24:03.540886Z",
     "shell.execute_reply": "2024-08-11T16:24:03.539685Z"
    },
    "papermill": {
     "duration": 0.053122,
     "end_time": "2024-08-11T16:24:03.543636",
     "exception": false,
     "start_time": "2024-08-11T16:24:03.490514",
     "status": "completed"
    },
    "tags": []
   },
   "outputs": [
    {
     "data": {
      "text/plain": [
       "(1057, 1172)"
      ]
     },
     "execution_count": 33,
     "metadata": {},
     "output_type": "execute_result"
    }
   ],
   "source": [
    "encoded_test = encoder.transform(test[categorical_cols])\n",
    "encoded_test.shape"
   ]
  },
  {
   "cell_type": "code",
   "execution_count": 34,
   "id": "5c118e38",
   "metadata": {
    "execution": {
     "iopub.execute_input": "2024-08-11T16:24:03.579258Z",
     "iopub.status.busy": "2024-08-11T16:24:03.578873Z",
     "iopub.status.idle": "2024-08-11T16:24:03.586458Z",
     "shell.execute_reply": "2024-08-11T16:24:03.585442Z"
    },
    "papermill": {
     "duration": 0.028585,
     "end_time": "2024-08-11T16:24:03.589217",
     "exception": false,
     "start_time": "2024-08-11T16:24:03.560632",
     "status": "completed"
    },
    "tags": []
   },
   "outputs": [
    {
     "data": {
      "text/plain": [
       "0    0\n",
       "1    0\n",
       "2    0\n",
       "3    0\n",
       "4    1\n",
       "Name: Churn Label, dtype: int64"
      ]
     },
     "execution_count": 34,
     "metadata": {},
     "output_type": "execute_result"
    }
   ],
   "source": [
    "y_train = train['Churn Label']\n",
    "y_train.head()"
   ]
  },
  {
   "cell_type": "code",
   "execution_count": 35,
   "id": "f54c19d0",
   "metadata": {
    "execution": {
     "iopub.execute_input": "2024-08-11T16:24:03.626172Z",
     "iopub.status.busy": "2024-08-11T16:24:03.625771Z",
     "iopub.status.idle": "2024-08-11T16:24:03.667331Z",
     "shell.execute_reply": "2024-08-11T16:24:03.665880Z"
    },
    "papermill": {
     "duration": 0.064343,
     "end_time": "2024-08-11T16:24:03.671002",
     "exception": false,
     "start_time": "2024-08-11T16:24:03.606659",
     "status": "completed"
    },
    "tags": []
   },
   "outputs": [],
   "source": [
    "X = np.hstack([encoded_data, numeric_data])\n",
    "X_test = np.hstack([encoded_test, numeric_data_test])"
   ]
  },
  {
   "cell_type": "code",
   "execution_count": 36,
   "id": "9a6f8d66",
   "metadata": {
    "execution": {
     "iopub.execute_input": "2024-08-11T16:24:03.707923Z",
     "iopub.status.busy": "2024-08-11T16:24:03.707538Z",
     "iopub.status.idle": "2024-08-11T16:24:06.300947Z",
     "shell.execute_reply": "2024-08-11T16:24:06.299331Z"
    },
    "papermill": {
     "duration": 2.615978,
     "end_time": "2024-08-11T16:24:06.304925",
     "exception": false,
     "start_time": "2024-08-11T16:24:03.688947",
     "status": "completed"
    },
    "tags": []
   },
   "outputs": [],
   "source": [
    "from sklearn.decomposition import PCA\n",
    "from sklearn.preprocessing import StandardScaler\n",
    "\n",
    "scaler = StandardScaler()\n",
    "X_scaled = scaler.fit_transform(X)\n",
    "X_test_scaled = scaler.transform(X_test)\n",
    "\n",
    "pca = PCA(n_components=0.95)  # Keep 95% of the variance\n",
    "X_pca = pca.fit_transform(X_scaled)\n",
    "X_test_pca = pca.transform(X_test_scaled)"
   ]
  },
  {
   "cell_type": "code",
   "execution_count": 37,
   "id": "bb1ba859",
   "metadata": {
    "execution": {
     "iopub.execute_input": "2024-08-11T16:24:06.364257Z",
     "iopub.status.busy": "2024-08-11T16:24:06.363701Z",
     "iopub.status.idle": "2024-08-11T16:24:06.999325Z",
     "shell.execute_reply": "2024-08-11T16:24:06.998055Z"
    },
    "papermill": {
     "duration": 0.66836,
     "end_time": "2024-08-11T16:24:07.002139",
     "exception": false,
     "start_time": "2024-08-11T16:24:06.333779",
     "status": "completed"
    },
    "tags": []
   },
   "outputs": [],
   "source": [
    "import pandas as pd\n",
    "\n",
    "from sklearn.tree import DecisionTreeClassifier\n",
    "\n",
    "\n",
    "# Assuming your data is in a pandas DataFrame named 'data'\n",
    "# with features in 'X' and target variable in 'y'\n",
    "\n",
    "model = DecisionTreeClassifier()\n",
    "model.fit(X, y_train)\n",
    "\n",
    "y_test = model.predict(X_test)\n",
    "\n",
    "\n"
   ]
  },
  {
   "cell_type": "code",
   "execution_count": 38,
   "id": "1afa639e",
   "metadata": {
    "execution": {
     "iopub.execute_input": "2024-08-11T16:24:07.040409Z",
     "iopub.status.busy": "2024-08-11T16:24:07.039360Z",
     "iopub.status.idle": "2024-08-11T16:24:07.237566Z",
     "shell.execute_reply": "2024-08-11T16:24:07.236390Z"
    },
    "papermill": {
     "duration": 0.220044,
     "end_time": "2024-08-11T16:24:07.240038",
     "exception": false,
     "start_time": "2024-08-11T16:24:07.019994",
     "status": "completed"
    },
    "tags": []
   },
   "outputs": [
    {
     "data": {
      "text/html": [
       "<style>#sk-container-id-1 {color: black;background-color: white;}#sk-container-id-1 pre{padding: 0;}#sk-container-id-1 div.sk-toggleable {background-color: white;}#sk-container-id-1 label.sk-toggleable__label {cursor: pointer;display: block;width: 100%;margin-bottom: 0;padding: 0.3em;box-sizing: border-box;text-align: center;}#sk-container-id-1 label.sk-toggleable__label-arrow:before {content: \"▸\";float: left;margin-right: 0.25em;color: #696969;}#sk-container-id-1 label.sk-toggleable__label-arrow:hover:before {color: black;}#sk-container-id-1 div.sk-estimator:hover label.sk-toggleable__label-arrow:before {color: black;}#sk-container-id-1 div.sk-toggleable__content {max-height: 0;max-width: 0;overflow: hidden;text-align: left;background-color: #f0f8ff;}#sk-container-id-1 div.sk-toggleable__content pre {margin: 0.2em;color: black;border-radius: 0.25em;background-color: #f0f8ff;}#sk-container-id-1 input.sk-toggleable__control:checked~div.sk-toggleable__content {max-height: 200px;max-width: 100%;overflow: auto;}#sk-container-id-1 input.sk-toggleable__control:checked~label.sk-toggleable__label-arrow:before {content: \"▾\";}#sk-container-id-1 div.sk-estimator input.sk-toggleable__control:checked~label.sk-toggleable__label {background-color: #d4ebff;}#sk-container-id-1 div.sk-label input.sk-toggleable__control:checked~label.sk-toggleable__label {background-color: #d4ebff;}#sk-container-id-1 input.sk-hidden--visually {border: 0;clip: rect(1px 1px 1px 1px);clip: rect(1px, 1px, 1px, 1px);height: 1px;margin: -1px;overflow: hidden;padding: 0;position: absolute;width: 1px;}#sk-container-id-1 div.sk-estimator {font-family: monospace;background-color: #f0f8ff;border: 1px dotted black;border-radius: 0.25em;box-sizing: border-box;margin-bottom: 0.5em;}#sk-container-id-1 div.sk-estimator:hover {background-color: #d4ebff;}#sk-container-id-1 div.sk-parallel-item::after {content: \"\";width: 100%;border-bottom: 1px solid gray;flex-grow: 1;}#sk-container-id-1 div.sk-label:hover label.sk-toggleable__label {background-color: #d4ebff;}#sk-container-id-1 div.sk-serial::before {content: \"\";position: absolute;border-left: 1px solid gray;box-sizing: border-box;top: 0;bottom: 0;left: 50%;z-index: 0;}#sk-container-id-1 div.sk-serial {display: flex;flex-direction: column;align-items: center;background-color: white;padding-right: 0.2em;padding-left: 0.2em;position: relative;}#sk-container-id-1 div.sk-item {position: relative;z-index: 1;}#sk-container-id-1 div.sk-parallel {display: flex;align-items: stretch;justify-content: center;background-color: white;position: relative;}#sk-container-id-1 div.sk-item::before, #sk-container-id-1 div.sk-parallel-item::before {content: \"\";position: absolute;border-left: 1px solid gray;box-sizing: border-box;top: 0;bottom: 0;left: 50%;z-index: -1;}#sk-container-id-1 div.sk-parallel-item {display: flex;flex-direction: column;z-index: 1;position: relative;background-color: white;}#sk-container-id-1 div.sk-parallel-item:first-child::after {align-self: flex-end;width: 50%;}#sk-container-id-1 div.sk-parallel-item:last-child::after {align-self: flex-start;width: 50%;}#sk-container-id-1 div.sk-parallel-item:only-child::after {width: 0;}#sk-container-id-1 div.sk-dashed-wrapped {border: 1px dashed gray;margin: 0 0.4em 0.5em 0.4em;box-sizing: border-box;padding-bottom: 0.4em;background-color: white;}#sk-container-id-1 div.sk-label label {font-family: monospace;font-weight: bold;display: inline-block;line-height: 1.2em;}#sk-container-id-1 div.sk-label-container {text-align: center;}#sk-container-id-1 div.sk-container {/* jupyter's `normalize.less` sets `[hidden] { display: none; }` but bootstrap.min.css set `[hidden] { display: none !important; }` so we also need the `!important` here to be able to override the default hidden behavior on the sphinx rendered scikit-learn.org. See: https://github.com/scikit-learn/scikit-learn/issues/21755 */display: inline-block !important;position: relative;}#sk-container-id-1 div.sk-text-repr-fallback {display: none;}</style><div id=\"sk-container-id-1\" class=\"sk-top-container\"><div class=\"sk-text-repr-fallback\"><pre>GaussianNB()</pre><b>In a Jupyter environment, please rerun this cell to show the HTML representation or trust the notebook. <br />On GitHub, the HTML representation is unable to render, please try loading this page with nbviewer.org.</b></div><div class=\"sk-container\" hidden><div class=\"sk-item\"><div class=\"sk-estimator sk-toggleable\"><input class=\"sk-toggleable__control sk-hidden--visually\" id=\"sk-estimator-id-1\" type=\"checkbox\" checked><label for=\"sk-estimator-id-1\" class=\"sk-toggleable__label sk-toggleable__label-arrow\">GaussianNB</label><div class=\"sk-toggleable__content\"><pre>GaussianNB()</pre></div></div></div></div></div>"
      ],
      "text/plain": [
       "GaussianNB()"
      ]
     },
     "execution_count": 38,
     "metadata": {},
     "output_type": "execute_result"
    }
   ],
   "source": [
    "import pandas as pd\n",
    "from sklearn.model_selection import train_test_split, cross_val_score\n",
    "from sklearn.naive_bayes import GaussianNB\n",
    "from sklearn.svm import SVC\n",
    "from sklearn.ensemble import RandomForestClassifier, VotingClassifier\n",
    "from sklearn.metrics import accuracy_score\n",
    "\n",
    "nb_classifier = GaussianNB()\n",
    "nb_classifier.fit(X, y_train)\n"
   ]
  },
  {
   "cell_type": "markdown",
   "id": "42f81f1c",
   "metadata": {
    "papermill": {
     "duration": 0.017972,
     "end_time": "2024-08-11T16:24:07.275901",
     "exception": false,
     "start_time": "2024-08-11T16:24:07.257929",
     "status": "completed"
    },
    "tags": []
   },
   "source": [
    "# gaussian com PCA"
   ]
  },
  {
   "cell_type": "code",
   "execution_count": 39,
   "id": "2b0dd565",
   "metadata": {
    "execution": {
     "iopub.execute_input": "2024-08-11T16:24:07.313733Z",
     "iopub.status.busy": "2024-08-11T16:24:07.313203Z",
     "iopub.status.idle": "2024-08-11T16:24:07.444615Z",
     "shell.execute_reply": "2024-08-11T16:24:07.443420Z"
    },
    "papermill": {
     "duration": 0.153358,
     "end_time": "2024-08-11T16:24:07.447088",
     "exception": false,
     "start_time": "2024-08-11T16:24:07.293730",
     "status": "completed"
    },
    "tags": []
   },
   "outputs": [
    {
     "data": {
      "text/html": [
       "<style>#sk-container-id-2 {color: black;background-color: white;}#sk-container-id-2 pre{padding: 0;}#sk-container-id-2 div.sk-toggleable {background-color: white;}#sk-container-id-2 label.sk-toggleable__label {cursor: pointer;display: block;width: 100%;margin-bottom: 0;padding: 0.3em;box-sizing: border-box;text-align: center;}#sk-container-id-2 label.sk-toggleable__label-arrow:before {content: \"▸\";float: left;margin-right: 0.25em;color: #696969;}#sk-container-id-2 label.sk-toggleable__label-arrow:hover:before {color: black;}#sk-container-id-2 div.sk-estimator:hover label.sk-toggleable__label-arrow:before {color: black;}#sk-container-id-2 div.sk-toggleable__content {max-height: 0;max-width: 0;overflow: hidden;text-align: left;background-color: #f0f8ff;}#sk-container-id-2 div.sk-toggleable__content pre {margin: 0.2em;color: black;border-radius: 0.25em;background-color: #f0f8ff;}#sk-container-id-2 input.sk-toggleable__control:checked~div.sk-toggleable__content {max-height: 200px;max-width: 100%;overflow: auto;}#sk-container-id-2 input.sk-toggleable__control:checked~label.sk-toggleable__label-arrow:before {content: \"▾\";}#sk-container-id-2 div.sk-estimator input.sk-toggleable__control:checked~label.sk-toggleable__label {background-color: #d4ebff;}#sk-container-id-2 div.sk-label input.sk-toggleable__control:checked~label.sk-toggleable__label {background-color: #d4ebff;}#sk-container-id-2 input.sk-hidden--visually {border: 0;clip: rect(1px 1px 1px 1px);clip: rect(1px, 1px, 1px, 1px);height: 1px;margin: -1px;overflow: hidden;padding: 0;position: absolute;width: 1px;}#sk-container-id-2 div.sk-estimator {font-family: monospace;background-color: #f0f8ff;border: 1px dotted black;border-radius: 0.25em;box-sizing: border-box;margin-bottom: 0.5em;}#sk-container-id-2 div.sk-estimator:hover {background-color: #d4ebff;}#sk-container-id-2 div.sk-parallel-item::after {content: \"\";width: 100%;border-bottom: 1px solid gray;flex-grow: 1;}#sk-container-id-2 div.sk-label:hover label.sk-toggleable__label {background-color: #d4ebff;}#sk-container-id-2 div.sk-serial::before {content: \"\";position: absolute;border-left: 1px solid gray;box-sizing: border-box;top: 0;bottom: 0;left: 50%;z-index: 0;}#sk-container-id-2 div.sk-serial {display: flex;flex-direction: column;align-items: center;background-color: white;padding-right: 0.2em;padding-left: 0.2em;position: relative;}#sk-container-id-2 div.sk-item {position: relative;z-index: 1;}#sk-container-id-2 div.sk-parallel {display: flex;align-items: stretch;justify-content: center;background-color: white;position: relative;}#sk-container-id-2 div.sk-item::before, #sk-container-id-2 div.sk-parallel-item::before {content: \"\";position: absolute;border-left: 1px solid gray;box-sizing: border-box;top: 0;bottom: 0;left: 50%;z-index: -1;}#sk-container-id-2 div.sk-parallel-item {display: flex;flex-direction: column;z-index: 1;position: relative;background-color: white;}#sk-container-id-2 div.sk-parallel-item:first-child::after {align-self: flex-end;width: 50%;}#sk-container-id-2 div.sk-parallel-item:last-child::after {align-self: flex-start;width: 50%;}#sk-container-id-2 div.sk-parallel-item:only-child::after {width: 0;}#sk-container-id-2 div.sk-dashed-wrapped {border: 1px dashed gray;margin: 0 0.4em 0.5em 0.4em;box-sizing: border-box;padding-bottom: 0.4em;background-color: white;}#sk-container-id-2 div.sk-label label {font-family: monospace;font-weight: bold;display: inline-block;line-height: 1.2em;}#sk-container-id-2 div.sk-label-container {text-align: center;}#sk-container-id-2 div.sk-container {/* jupyter's `normalize.less` sets `[hidden] { display: none; }` but bootstrap.min.css set `[hidden] { display: none !important; }` so we also need the `!important` here to be able to override the default hidden behavior on the sphinx rendered scikit-learn.org. See: https://github.com/scikit-learn/scikit-learn/issues/21755 */display: inline-block !important;position: relative;}#sk-container-id-2 div.sk-text-repr-fallback {display: none;}</style><div id=\"sk-container-id-2\" class=\"sk-top-container\"><div class=\"sk-text-repr-fallback\"><pre>GaussianNB()</pre><b>In a Jupyter environment, please rerun this cell to show the HTML representation or trust the notebook. <br />On GitHub, the HTML representation is unable to render, please try loading this page with nbviewer.org.</b></div><div class=\"sk-container\" hidden><div class=\"sk-item\"><div class=\"sk-estimator sk-toggleable\"><input class=\"sk-toggleable__control sk-hidden--visually\" id=\"sk-estimator-id-2\" type=\"checkbox\" checked><label for=\"sk-estimator-id-2\" class=\"sk-toggleable__label sk-toggleable__label-arrow\">GaussianNB</label><div class=\"sk-toggleable__content\"><pre>GaussianNB()</pre></div></div></div></div></div>"
      ],
      "text/plain": [
       "GaussianNB()"
      ]
     },
     "execution_count": 39,
     "metadata": {},
     "output_type": "execute_result"
    }
   ],
   "source": [
    "nb_classifier = GaussianNB()\n",
    "nb_classifier.fit(X_pca, y_train)"
   ]
  },
  {
   "cell_type": "code",
   "execution_count": 40,
   "id": "1736622b",
   "metadata": {
    "execution": {
     "iopub.execute_input": "2024-08-11T16:24:07.486087Z",
     "iopub.status.busy": "2024-08-11T16:24:07.485095Z",
     "iopub.status.idle": "2024-08-11T16:25:41.150386Z",
     "shell.execute_reply": "2024-08-11T16:25:41.149109Z"
    },
    "papermill": {
     "duration": 93.714326,
     "end_time": "2024-08-11T16:25:41.179752",
     "exception": false,
     "start_time": "2024-08-11T16:24:07.465426",
     "status": "completed"
    },
    "tags": []
   },
   "outputs": [
    {
     "data": {
      "text/html": [
       "<style>#sk-container-id-3 {color: black;background-color: white;}#sk-container-id-3 pre{padding: 0;}#sk-container-id-3 div.sk-toggleable {background-color: white;}#sk-container-id-3 label.sk-toggleable__label {cursor: pointer;display: block;width: 100%;margin-bottom: 0;padding: 0.3em;box-sizing: border-box;text-align: center;}#sk-container-id-3 label.sk-toggleable__label-arrow:before {content: \"▸\";float: left;margin-right: 0.25em;color: #696969;}#sk-container-id-3 label.sk-toggleable__label-arrow:hover:before {color: black;}#sk-container-id-3 div.sk-estimator:hover label.sk-toggleable__label-arrow:before {color: black;}#sk-container-id-3 div.sk-toggleable__content {max-height: 0;max-width: 0;overflow: hidden;text-align: left;background-color: #f0f8ff;}#sk-container-id-3 div.sk-toggleable__content pre {margin: 0.2em;color: black;border-radius: 0.25em;background-color: #f0f8ff;}#sk-container-id-3 input.sk-toggleable__control:checked~div.sk-toggleable__content {max-height: 200px;max-width: 100%;overflow: auto;}#sk-container-id-3 input.sk-toggleable__control:checked~label.sk-toggleable__label-arrow:before {content: \"▾\";}#sk-container-id-3 div.sk-estimator input.sk-toggleable__control:checked~label.sk-toggleable__label {background-color: #d4ebff;}#sk-container-id-3 div.sk-label input.sk-toggleable__control:checked~label.sk-toggleable__label {background-color: #d4ebff;}#sk-container-id-3 input.sk-hidden--visually {border: 0;clip: rect(1px 1px 1px 1px);clip: rect(1px, 1px, 1px, 1px);height: 1px;margin: -1px;overflow: hidden;padding: 0;position: absolute;width: 1px;}#sk-container-id-3 div.sk-estimator {font-family: monospace;background-color: #f0f8ff;border: 1px dotted black;border-radius: 0.25em;box-sizing: border-box;margin-bottom: 0.5em;}#sk-container-id-3 div.sk-estimator:hover {background-color: #d4ebff;}#sk-container-id-3 div.sk-parallel-item::after {content: \"\";width: 100%;border-bottom: 1px solid gray;flex-grow: 1;}#sk-container-id-3 div.sk-label:hover label.sk-toggleable__label {background-color: #d4ebff;}#sk-container-id-3 div.sk-serial::before {content: \"\";position: absolute;border-left: 1px solid gray;box-sizing: border-box;top: 0;bottom: 0;left: 50%;z-index: 0;}#sk-container-id-3 div.sk-serial {display: flex;flex-direction: column;align-items: center;background-color: white;padding-right: 0.2em;padding-left: 0.2em;position: relative;}#sk-container-id-3 div.sk-item {position: relative;z-index: 1;}#sk-container-id-3 div.sk-parallel {display: flex;align-items: stretch;justify-content: center;background-color: white;position: relative;}#sk-container-id-3 div.sk-item::before, #sk-container-id-3 div.sk-parallel-item::before {content: \"\";position: absolute;border-left: 1px solid gray;box-sizing: border-box;top: 0;bottom: 0;left: 50%;z-index: -1;}#sk-container-id-3 div.sk-parallel-item {display: flex;flex-direction: column;z-index: 1;position: relative;background-color: white;}#sk-container-id-3 div.sk-parallel-item:first-child::after {align-self: flex-end;width: 50%;}#sk-container-id-3 div.sk-parallel-item:last-child::after {align-self: flex-start;width: 50%;}#sk-container-id-3 div.sk-parallel-item:only-child::after {width: 0;}#sk-container-id-3 div.sk-dashed-wrapped {border: 1px dashed gray;margin: 0 0.4em 0.5em 0.4em;box-sizing: border-box;padding-bottom: 0.4em;background-color: white;}#sk-container-id-3 div.sk-label label {font-family: monospace;font-weight: bold;display: inline-block;line-height: 1.2em;}#sk-container-id-3 div.sk-label-container {text-align: center;}#sk-container-id-3 div.sk-container {/* jupyter's `normalize.less` sets `[hidden] { display: none; }` but bootstrap.min.css set `[hidden] { display: none !important; }` so we also need the `!important` here to be able to override the default hidden behavior on the sphinx rendered scikit-learn.org. See: https://github.com/scikit-learn/scikit-learn/issues/21755 */display: inline-block !important;position: relative;}#sk-container-id-3 div.sk-text-repr-fallback {display: none;}</style><div id=\"sk-container-id-3\" class=\"sk-top-container\"><div class=\"sk-text-repr-fallback\"><pre>SVC(probability=True)</pre><b>In a Jupyter environment, please rerun this cell to show the HTML representation or trust the notebook. <br />On GitHub, the HTML representation is unable to render, please try loading this page with nbviewer.org.</b></div><div class=\"sk-container\" hidden><div class=\"sk-item\"><div class=\"sk-estimator sk-toggleable\"><input class=\"sk-toggleable__control sk-hidden--visually\" id=\"sk-estimator-id-3\" type=\"checkbox\" checked><label for=\"sk-estimator-id-3\" class=\"sk-toggleable__label sk-toggleable__label-arrow\">SVC</label><div class=\"sk-toggleable__content\"><pre>SVC(probability=True)</pre></div></div></div></div></div>"
      ],
      "text/plain": [
       "SVC(probability=True)"
      ]
     },
     "execution_count": 40,
     "metadata": {},
     "output_type": "execute_result"
    }
   ],
   "source": [
    "svm_classifier = SVC(probability=True)  # Set probability=True if you need probability estimates\n",
    "svm_classifier.fit(X, y_train)"
   ]
  },
  {
   "cell_type": "code",
   "execution_count": 41,
   "id": "6da46454",
   "metadata": {
    "execution": {
     "iopub.execute_input": "2024-08-11T16:25:41.219945Z",
     "iopub.status.busy": "2024-08-11T16:25:41.219545Z",
     "iopub.status.idle": "2024-08-11T16:25:43.818004Z",
     "shell.execute_reply": "2024-08-11T16:25:43.816914Z"
    },
    "papermill": {
     "duration": 2.620642,
     "end_time": "2024-08-11T16:25:43.820421",
     "exception": false,
     "start_time": "2024-08-11T16:25:41.199779",
     "status": "completed"
    },
    "tags": []
   },
   "outputs": [
    {
     "data": {
      "text/html": [
       "<style>#sk-container-id-4 {color: black;background-color: white;}#sk-container-id-4 pre{padding: 0;}#sk-container-id-4 div.sk-toggleable {background-color: white;}#sk-container-id-4 label.sk-toggleable__label {cursor: pointer;display: block;width: 100%;margin-bottom: 0;padding: 0.3em;box-sizing: border-box;text-align: center;}#sk-container-id-4 label.sk-toggleable__label-arrow:before {content: \"▸\";float: left;margin-right: 0.25em;color: #696969;}#sk-container-id-4 label.sk-toggleable__label-arrow:hover:before {color: black;}#sk-container-id-4 div.sk-estimator:hover label.sk-toggleable__label-arrow:before {color: black;}#sk-container-id-4 div.sk-toggleable__content {max-height: 0;max-width: 0;overflow: hidden;text-align: left;background-color: #f0f8ff;}#sk-container-id-4 div.sk-toggleable__content pre {margin: 0.2em;color: black;border-radius: 0.25em;background-color: #f0f8ff;}#sk-container-id-4 input.sk-toggleable__control:checked~div.sk-toggleable__content {max-height: 200px;max-width: 100%;overflow: auto;}#sk-container-id-4 input.sk-toggleable__control:checked~label.sk-toggleable__label-arrow:before {content: \"▾\";}#sk-container-id-4 div.sk-estimator input.sk-toggleable__control:checked~label.sk-toggleable__label {background-color: #d4ebff;}#sk-container-id-4 div.sk-label input.sk-toggleable__control:checked~label.sk-toggleable__label {background-color: #d4ebff;}#sk-container-id-4 input.sk-hidden--visually {border: 0;clip: rect(1px 1px 1px 1px);clip: rect(1px, 1px, 1px, 1px);height: 1px;margin: -1px;overflow: hidden;padding: 0;position: absolute;width: 1px;}#sk-container-id-4 div.sk-estimator {font-family: monospace;background-color: #f0f8ff;border: 1px dotted black;border-radius: 0.25em;box-sizing: border-box;margin-bottom: 0.5em;}#sk-container-id-4 div.sk-estimator:hover {background-color: #d4ebff;}#sk-container-id-4 div.sk-parallel-item::after {content: \"\";width: 100%;border-bottom: 1px solid gray;flex-grow: 1;}#sk-container-id-4 div.sk-label:hover label.sk-toggleable__label {background-color: #d4ebff;}#sk-container-id-4 div.sk-serial::before {content: \"\";position: absolute;border-left: 1px solid gray;box-sizing: border-box;top: 0;bottom: 0;left: 50%;z-index: 0;}#sk-container-id-4 div.sk-serial {display: flex;flex-direction: column;align-items: center;background-color: white;padding-right: 0.2em;padding-left: 0.2em;position: relative;}#sk-container-id-4 div.sk-item {position: relative;z-index: 1;}#sk-container-id-4 div.sk-parallel {display: flex;align-items: stretch;justify-content: center;background-color: white;position: relative;}#sk-container-id-4 div.sk-item::before, #sk-container-id-4 div.sk-parallel-item::before {content: \"\";position: absolute;border-left: 1px solid gray;box-sizing: border-box;top: 0;bottom: 0;left: 50%;z-index: -1;}#sk-container-id-4 div.sk-parallel-item {display: flex;flex-direction: column;z-index: 1;position: relative;background-color: white;}#sk-container-id-4 div.sk-parallel-item:first-child::after {align-self: flex-end;width: 50%;}#sk-container-id-4 div.sk-parallel-item:last-child::after {align-self: flex-start;width: 50%;}#sk-container-id-4 div.sk-parallel-item:only-child::after {width: 0;}#sk-container-id-4 div.sk-dashed-wrapped {border: 1px dashed gray;margin: 0 0.4em 0.5em 0.4em;box-sizing: border-box;padding-bottom: 0.4em;background-color: white;}#sk-container-id-4 div.sk-label label {font-family: monospace;font-weight: bold;display: inline-block;line-height: 1.2em;}#sk-container-id-4 div.sk-label-container {text-align: center;}#sk-container-id-4 div.sk-container {/* jupyter's `normalize.less` sets `[hidden] { display: none; }` but bootstrap.min.css set `[hidden] { display: none !important; }` so we also need the `!important` here to be able to override the default hidden behavior on the sphinx rendered scikit-learn.org. See: https://github.com/scikit-learn/scikit-learn/issues/21755 */display: inline-block !important;position: relative;}#sk-container-id-4 div.sk-text-repr-fallback {display: none;}</style><div id=\"sk-container-id-4\" class=\"sk-top-container\"><div class=\"sk-text-repr-fallback\"><pre>RandomForestClassifier(random_state=42)</pre><b>In a Jupyter environment, please rerun this cell to show the HTML representation or trust the notebook. <br />On GitHub, the HTML representation is unable to render, please try loading this page with nbviewer.org.</b></div><div class=\"sk-container\" hidden><div class=\"sk-item\"><div class=\"sk-estimator sk-toggleable\"><input class=\"sk-toggleable__control sk-hidden--visually\" id=\"sk-estimator-id-4\" type=\"checkbox\" checked><label for=\"sk-estimator-id-4\" class=\"sk-toggleable__label sk-toggleable__label-arrow\">RandomForestClassifier</label><div class=\"sk-toggleable__content\"><pre>RandomForestClassifier(random_state=42)</pre></div></div></div></div></div>"
      ],
      "text/plain": [
       "RandomForestClassifier(random_state=42)"
      ]
     },
     "execution_count": 41,
     "metadata": {},
     "output_type": "execute_result"
    }
   ],
   "source": [
    "rf_classifier = RandomForestClassifier(n_estimators=100, random_state=42)\n",
    "rf_classifier.fit(X, y_train)\n"
   ]
  },
  {
   "cell_type": "code",
   "execution_count": 42,
   "id": "eaee8fc9",
   "metadata": {
    "execution": {
     "iopub.execute_input": "2024-08-11T16:25:43.858324Z",
     "iopub.status.busy": "2024-08-11T16:25:43.857934Z",
     "iopub.status.idle": "2024-08-11T16:27:20.168434Z",
     "shell.execute_reply": "2024-08-11T16:27:20.167139Z"
    },
    "papermill": {
     "duration": 96.351166,
     "end_time": "2024-08-11T16:27:20.189601",
     "exception": false,
     "start_time": "2024-08-11T16:25:43.838435",
     "status": "completed"
    },
    "tags": []
   },
   "outputs": [
    {
     "data": {
      "text/html": [
       "<style>#sk-container-id-5 {color: black;background-color: white;}#sk-container-id-5 pre{padding: 0;}#sk-container-id-5 div.sk-toggleable {background-color: white;}#sk-container-id-5 label.sk-toggleable__label {cursor: pointer;display: block;width: 100%;margin-bottom: 0;padding: 0.3em;box-sizing: border-box;text-align: center;}#sk-container-id-5 label.sk-toggleable__label-arrow:before {content: \"▸\";float: left;margin-right: 0.25em;color: #696969;}#sk-container-id-5 label.sk-toggleable__label-arrow:hover:before {color: black;}#sk-container-id-5 div.sk-estimator:hover label.sk-toggleable__label-arrow:before {color: black;}#sk-container-id-5 div.sk-toggleable__content {max-height: 0;max-width: 0;overflow: hidden;text-align: left;background-color: #f0f8ff;}#sk-container-id-5 div.sk-toggleable__content pre {margin: 0.2em;color: black;border-radius: 0.25em;background-color: #f0f8ff;}#sk-container-id-5 input.sk-toggleable__control:checked~div.sk-toggleable__content {max-height: 200px;max-width: 100%;overflow: auto;}#sk-container-id-5 input.sk-toggleable__control:checked~label.sk-toggleable__label-arrow:before {content: \"▾\";}#sk-container-id-5 div.sk-estimator input.sk-toggleable__control:checked~label.sk-toggleable__label {background-color: #d4ebff;}#sk-container-id-5 div.sk-label input.sk-toggleable__control:checked~label.sk-toggleable__label {background-color: #d4ebff;}#sk-container-id-5 input.sk-hidden--visually {border: 0;clip: rect(1px 1px 1px 1px);clip: rect(1px, 1px, 1px, 1px);height: 1px;margin: -1px;overflow: hidden;padding: 0;position: absolute;width: 1px;}#sk-container-id-5 div.sk-estimator {font-family: monospace;background-color: #f0f8ff;border: 1px dotted black;border-radius: 0.25em;box-sizing: border-box;margin-bottom: 0.5em;}#sk-container-id-5 div.sk-estimator:hover {background-color: #d4ebff;}#sk-container-id-5 div.sk-parallel-item::after {content: \"\";width: 100%;border-bottom: 1px solid gray;flex-grow: 1;}#sk-container-id-5 div.sk-label:hover label.sk-toggleable__label {background-color: #d4ebff;}#sk-container-id-5 div.sk-serial::before {content: \"\";position: absolute;border-left: 1px solid gray;box-sizing: border-box;top: 0;bottom: 0;left: 50%;z-index: 0;}#sk-container-id-5 div.sk-serial {display: flex;flex-direction: column;align-items: center;background-color: white;padding-right: 0.2em;padding-left: 0.2em;position: relative;}#sk-container-id-5 div.sk-item {position: relative;z-index: 1;}#sk-container-id-5 div.sk-parallel {display: flex;align-items: stretch;justify-content: center;background-color: white;position: relative;}#sk-container-id-5 div.sk-item::before, #sk-container-id-5 div.sk-parallel-item::before {content: \"\";position: absolute;border-left: 1px solid gray;box-sizing: border-box;top: 0;bottom: 0;left: 50%;z-index: -1;}#sk-container-id-5 div.sk-parallel-item {display: flex;flex-direction: column;z-index: 1;position: relative;background-color: white;}#sk-container-id-5 div.sk-parallel-item:first-child::after {align-self: flex-end;width: 50%;}#sk-container-id-5 div.sk-parallel-item:last-child::after {align-self: flex-start;width: 50%;}#sk-container-id-5 div.sk-parallel-item:only-child::after {width: 0;}#sk-container-id-5 div.sk-dashed-wrapped {border: 1px dashed gray;margin: 0 0.4em 0.5em 0.4em;box-sizing: border-box;padding-bottom: 0.4em;background-color: white;}#sk-container-id-5 div.sk-label label {font-family: monospace;font-weight: bold;display: inline-block;line-height: 1.2em;}#sk-container-id-5 div.sk-label-container {text-align: center;}#sk-container-id-5 div.sk-container {/* jupyter's `normalize.less` sets `[hidden] { display: none; }` but bootstrap.min.css set `[hidden] { display: none !important; }` so we also need the `!important` here to be able to override the default hidden behavior on the sphinx rendered scikit-learn.org. See: https://github.com/scikit-learn/scikit-learn/issues/21755 */display: inline-block !important;position: relative;}#sk-container-id-5 div.sk-text-repr-fallback {display: none;}</style><div id=\"sk-container-id-5\" class=\"sk-top-container\"><div class=\"sk-text-repr-fallback\"><pre>VotingClassifier(estimators=[(&#x27;nb&#x27;, GaussianNB()),\n",
       "                             (&#x27;svm&#x27;, SVC(probability=True)),\n",
       "                             (&#x27;rf&#x27;, RandomForestClassifier(random_state=42))])</pre><b>In a Jupyter environment, please rerun this cell to show the HTML representation or trust the notebook. <br />On GitHub, the HTML representation is unable to render, please try loading this page with nbviewer.org.</b></div><div class=\"sk-container\" hidden><div class=\"sk-item sk-dashed-wrapped\"><div class=\"sk-label-container\"><div class=\"sk-label sk-toggleable\"><input class=\"sk-toggleable__control sk-hidden--visually\" id=\"sk-estimator-id-5\" type=\"checkbox\" ><label for=\"sk-estimator-id-5\" class=\"sk-toggleable__label sk-toggleable__label-arrow\">VotingClassifier</label><div class=\"sk-toggleable__content\"><pre>VotingClassifier(estimators=[(&#x27;nb&#x27;, GaussianNB()),\n",
       "                             (&#x27;svm&#x27;, SVC(probability=True)),\n",
       "                             (&#x27;rf&#x27;, RandomForestClassifier(random_state=42))])</pre></div></div></div><div class=\"sk-parallel\"><div class=\"sk-parallel-item\"><div class=\"sk-item\"><div class=\"sk-label-container\"><div class=\"sk-label sk-toggleable\"><label>nb</label></div></div><div class=\"sk-serial\"><div class=\"sk-item\"><div class=\"sk-estimator sk-toggleable\"><input class=\"sk-toggleable__control sk-hidden--visually\" id=\"sk-estimator-id-6\" type=\"checkbox\" ><label for=\"sk-estimator-id-6\" class=\"sk-toggleable__label sk-toggleable__label-arrow\">GaussianNB</label><div class=\"sk-toggleable__content\"><pre>GaussianNB()</pre></div></div></div></div></div></div><div class=\"sk-parallel-item\"><div class=\"sk-item\"><div class=\"sk-label-container\"><div class=\"sk-label sk-toggleable\"><label>svm</label></div></div><div class=\"sk-serial\"><div class=\"sk-item\"><div class=\"sk-estimator sk-toggleable\"><input class=\"sk-toggleable__control sk-hidden--visually\" id=\"sk-estimator-id-7\" type=\"checkbox\" ><label for=\"sk-estimator-id-7\" class=\"sk-toggleable__label sk-toggleable__label-arrow\">SVC</label><div class=\"sk-toggleable__content\"><pre>SVC(probability=True)</pre></div></div></div></div></div></div><div class=\"sk-parallel-item\"><div class=\"sk-item\"><div class=\"sk-label-container\"><div class=\"sk-label sk-toggleable\"><label>rf</label></div></div><div class=\"sk-serial\"><div class=\"sk-item\"><div class=\"sk-estimator sk-toggleable\"><input class=\"sk-toggleable__control sk-hidden--visually\" id=\"sk-estimator-id-8\" type=\"checkbox\" ><label for=\"sk-estimator-id-8\" class=\"sk-toggleable__label sk-toggleable__label-arrow\">RandomForestClassifier</label><div class=\"sk-toggleable__content\"><pre>RandomForestClassifier(random_state=42)</pre></div></div></div></div></div></div></div></div></div></div>"
      ],
      "text/plain": [
       "VotingClassifier(estimators=[('nb', GaussianNB()),\n",
       "                             ('svm', SVC(probability=True)),\n",
       "                             ('rf', RandomForestClassifier(random_state=42))])"
      ]
     },
     "execution_count": 42,
     "metadata": {},
     "output_type": "execute_result"
    }
   ],
   "source": [
    "# Define ensemble with voting\n",
    "ensemble_classifier = VotingClassifier(\n",
    "    estimators=[\n",
    "        ('nb', nb_classifier),\n",
    "        ('svm', svm_classifier),\n",
    "        ('rf', rf_classifier)\n",
    "    ],\n",
    "    voting='hard'  # Use 'soft' for probability-based voting\n",
    ")\n",
    "ensemble_classifier.fit(X, y_train)\n"
   ]
  },
  {
   "cell_type": "code",
   "execution_count": 43,
   "id": "085261ce",
   "metadata": {
    "execution": {
     "iopub.execute_input": "2024-08-11T16:27:20.229561Z",
     "iopub.status.busy": "2024-08-11T16:27:20.228266Z",
     "iopub.status.idle": "2024-08-11T16:27:20.249958Z",
     "shell.execute_reply": "2024-08-11T16:27:20.248650Z"
    },
    "papermill": {
     "duration": 0.044709,
     "end_time": "2024-08-11T16:27:20.252583",
     "exception": false,
     "start_time": "2024-08-11T16:27:20.207874",
     "status": "completed"
    },
    "tags": []
   },
   "outputs": [],
   "source": [
    "# Predict and evaluate Naive Bayes\n",
    "y_test = nb_classifier.predict(X_test) #best result\n",
    "\n",
    "#nayve bayes com PCA\n",
    "#y_test = nb_classifier.predict(X_test_pca)\n",
    "\n",
    "# Predict and evaluate SVM\n",
    "#y_test = svm_classifier.predict(X_test)\n",
    "\n",
    "\n",
    "# Predict and evaluate Random Forest\n",
    "#y_test = rf_classifier.predict(X_test)\n",
    "\n",
    "\n",
    "# Predict and evaluate Ensemble Learning\n",
    "#y_test = ensemble_classifier.predict(X_test)\n",
    "\n"
   ]
  },
  {
   "cell_type": "code",
   "execution_count": 44,
   "id": "eb6487ad",
   "metadata": {
    "execution": {
     "iopub.execute_input": "2024-08-11T16:27:20.292127Z",
     "iopub.status.busy": "2024-08-11T16:27:20.291163Z",
     "iopub.status.idle": "2024-08-11T16:27:20.299140Z",
     "shell.execute_reply": "2024-08-11T16:27:20.298052Z"
    },
    "papermill": {
     "duration": 0.030475,
     "end_time": "2024-08-11T16:27:20.301523",
     "exception": false,
     "start_time": "2024-08-11T16:27:20.271048",
     "status": "completed"
    },
    "tags": []
   },
   "outputs": [],
   "source": [
    "y_test_series = pd.Series(y_test)\n",
    "churn = y_test_series.map({0: 'No', 1: 'Yes'})\n",
    "\n",
    "# Select only the columns we need to save\n",
    "output_data = pd.concat([CustomerId, churn], axis=1)\n",
    "\n",
    "output_data.columns = ['CustomerID', 'Churn Label']\n",
    "\n"
   ]
  },
  {
   "cell_type": "code",
   "execution_count": 45,
   "id": "02cdfeeb",
   "metadata": {
    "execution": {
     "iopub.execute_input": "2024-08-11T16:27:20.341665Z",
     "iopub.status.busy": "2024-08-11T16:27:20.341232Z",
     "iopub.status.idle": "2024-08-11T16:27:20.350684Z",
     "shell.execute_reply": "2024-08-11T16:27:20.349472Z"
    },
    "papermill": {
     "duration": 0.032776,
     "end_time": "2024-08-11T16:27:20.353325",
     "exception": false,
     "start_time": "2024-08-11T16:27:20.320549",
     "status": "completed"
    },
    "tags": []
   },
   "outputs": [],
   "source": [
    "# Write to CSV\n",
    "output_data.to_csv('submission.csv', index=False)"
   ]
  }
 ],
 "metadata": {
  "kaggle": {
   "accelerator": "none",
   "dataSources": [
    {
     "databundleVersionId": 9084793,
     "sourceId": 82728,
     "sourceType": "competition"
    }
   ],
   "dockerImageVersionId": 30746,
   "isGpuEnabled": false,
   "isInternetEnabled": true,
   "language": "python",
   "sourceType": "notebook"
  },
  "kernelspec": {
   "display_name": "Python 3",
   "language": "python",
   "name": "python3"
  },
  "language_info": {
   "codemirror_mode": {
    "name": "ipython",
    "version": 3
   },
   "file_extension": ".py",
   "mimetype": "text/x-python",
   "name": "python",
   "nbconvert_exporter": "python",
   "pygments_lexer": "ipython3",
   "version": "3.10.13"
  },
  "papermill": {
   "default_parameters": {},
   "duration": 213.897307,
   "end_time": "2024-08-11T16:27:21.194762",
   "environment_variables": {},
   "exception": null,
   "input_path": "__notebook__.ipynb",
   "output_path": "__notebook__.ipynb",
   "parameters": {},
   "start_time": "2024-08-11T16:23:47.297455",
   "version": "2.5.0"
  }
 },
 "nbformat": 4,
 "nbformat_minor": 5
}
